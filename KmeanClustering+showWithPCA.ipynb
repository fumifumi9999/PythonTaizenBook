{
 "cells": [
  {
   "cell_type": "code",
   "execution_count": 25,
   "id": "11e54681",
   "metadata": {
    "ExecuteTime": {
     "end_time": "2022-04-29T08:57:42.519082Z",
     "start_time": "2022-04-29T08:57:42.264173Z"
    }
   },
   "outputs": [
    {
     "name": "stdout",
     "output_type": "stream",
     "text": [
      "(1460, 81)\n"
     ]
    }
   ],
   "source": [
    "#重回帰（Lasso）→係数0削除→主成分分析→Kmean→Cluster特徴発見→重回帰LassoでClusterごとの係数を分析\n",
    "\n",
    "### ----------------- 機械学習 ------------------ ###\n",
    "# PySparkについて：　数GBのデータをリアルタイムに解析したい場合以外はPandasの方が断然お得\n",
    "\n",
    "import os\n",
    "import numpy as np\n",
    "import pandas as pd\n",
    "import seaborn as sns\n",
    "import matplotlib.pyplot as plt\n",
    "# import scikit-learn\n",
    "\n",
    "# path = 'C:\\\\Users\\\\fobay\\\\Jupyter\\\\DataAnalysis\\\\YFData'\n",
    "# path = 'C:/Users/fobay/Jupyter/DataAnalysis/YFData' #For Jupyter\n",
    "path = 'C:/Users/fumi9/Desktop/DFS/Colab Notebooks/Kaggle/HousePrice'\n",
    "# path = '/content/drive/My Drive/Colab Notebooks/DataAnalysisForFrenchAnalysis/YFData/FrenchData/' # For Colab\n",
    "os.chdir(path)\n",
    "\n",
    "Dataset = pd.read_csv(os.getcwd() + \"/train.csv\", encoding='CP932')\n",
    "\n",
    "# Dataset.tail(5)\n",
    "print(Dataset.shape)"
   ]
  },
  {
   "cell_type": "code",
   "execution_count": null,
   "id": "9035a0ea",
   "metadata": {},
   "outputs": [],
   "source": [
    "#欠損データの補間\n",
    "#①定性的な指標を定量に直す（例：１週間ー＞７、２週間ー＞１４）\n",
    "#②OneHotEncoding（get_dummiesでもOK）する項目を明記\n",
    "    #Dataset = pd.get_dummies(Dataset, columns=[\"性別\"])\n",
    "#③次元ごとの寄与率を確認（一般的に1以上の固有値の項目が元のデータと関係が深い）\n",
    "#カテゴリカルデータの分解と統合（今は使用しない）"
   ]
  },
  {
   "cell_type": "code",
   "execution_count": 27,
   "id": "db83570c",
   "metadata": {
    "ExecuteTime": {
     "end_time": "2022-04-29T09:03:30.997408Z",
     "start_time": "2022-04-29T09:03:30.958133Z"
    },
    "scrolled": false
   },
   "outputs": [
    {
     "data": {
      "text/plain": [
       "PoolQC          1453\n",
       "MiscFeature     1406\n",
       "Alley           1369\n",
       "Fence           1179\n",
       "FireplaceQu      690\n",
       "LotFrontage      259\n",
       "GarageType        81\n",
       "GarageYrBlt       81\n",
       "GarageFinish      81\n",
       "GarageQual        81\n",
       "GarageCond        81\n",
       "BsmtExposure      38\n",
       "BsmtFinType2      38\n",
       "BsmtFinType1      37\n",
       "BsmtCond          37\n",
       "BsmtQual          37\n",
       "MasVnrArea         8\n",
       "MasVnrType         8\n",
       "Electrical         1\n",
       "dtype: int64"
      ]
     },
     "execution_count": 27,
     "metadata": {},
     "output_type": "execute_result"
    }
   ],
   "source": [
    "Dataset.isnull().sum()[Dataset.isnull().sum()>0].sort_values(ascending=False)"
   ]
  },
  {
   "cell_type": "code",
   "execution_count": 28,
   "id": "eaa2c87d",
   "metadata": {
    "ExecuteTime": {
     "end_time": "2022-04-29T09:04:58.338261Z",
     "start_time": "2022-04-29T09:04:58.275544Z"
    }
   },
   "outputs": [
    {
     "data": {
      "text/plain": [
       "LotFrontage     float64\n",
       "MasVnrArea      float64\n",
       "GarageYrBlt     float64\n",
       "PoolQC           object\n",
       "GarageCond       object\n",
       "GarageQual       object\n",
       "GarageFinish     object\n",
       "GarageType       object\n",
       "FireplaceQu      object\n",
       "Electrical       object\n",
       "BsmtFinType2     object\n",
       "BsmtFinType1     object\n",
       "BsmtExposure     object\n",
       "BsmtCond         object\n",
       "BsmtQual         object\n",
       "MasVnrType       object\n",
       "Alley            object\n",
       "Fence            object\n",
       "MiscFeature      object\n",
       "dtype: object"
      ]
     },
     "execution_count": 28,
     "metadata": {},
     "output_type": "execute_result"
    }
   ],
   "source": [
    "# 欠損を含むカラムのデータ型を確認\n",
    "na_col_list = Dataset.isnull().sum()[Dataset.isnull().sum()>0].index.tolist() # 欠損を含むカラムをリスト化\n",
    "Dataset[na_col_list].dtypes.sort_values() #データ型"
   ]
  },
  {
   "cell_type": "code",
   "execution_count": 29,
   "id": "36d81675",
   "metadata": {
    "ExecuteTime": {
     "end_time": "2022-04-29T09:58:17.230565Z",
     "start_time": "2022-04-29T09:58:17.191697Z"
    }
   },
   "outputs": [],
   "source": [
    "# データ型に応じて欠損値を補完する\n",
    "# floatの場合は0\n",
    "# objectの場合は'NA'\n",
    "na_float_cols = Dataset[na_col_list].dtypes[Dataset[na_col_list].dtypes=='float64'].index.tolist() #float64\n",
    "na_obj_cols = Dataset[na_col_list].dtypes[Dataset[na_col_list].dtypes=='object'].index.tolist() #object\n",
    "# float64型で欠損している場合は0を代入\n",
    "for na_float_col in na_float_cols:\n",
    "    Dataset.loc[Dataset[na_float_col].isnull(),na_float_col] = 0.0\n",
    "# object型で欠損している場合は'NA'を代入\n",
    "for na_obj_col in na_obj_cols:\n",
    "    Dataset.loc[Dataset[na_obj_col].isnull(),na_obj_col] = 'NA'"
   ]
  },
  {
   "cell_type": "code",
   "execution_count": 31,
   "id": "713428d7",
   "metadata": {
    "ExecuteTime": {
     "end_time": "2022-04-29T09:58:33.530154Z",
     "start_time": "2022-04-29T09:58:33.509154Z"
    }
   },
   "outputs": [
    {
     "data": {
      "text/plain": [
       "Series([], dtype: int64)"
      ]
     },
     "execution_count": 31,
     "metadata": {},
     "output_type": "execute_result"
    }
   ],
   "source": [
    "# マージデータの欠損状況\n",
    "Dataset.isnull().sum()[Dataset.isnull().sum()>0].sort_values(ascending=False)"
   ]
  },
  {
   "cell_type": "code",
   "execution_count": 35,
   "id": "0b4ae093",
   "metadata": {
    "ExecuteTime": {
     "end_time": "2022-04-29T10:02:38.706132Z",
     "start_time": "2022-04-29T10:02:38.609499Z"
    }
   },
   "outputs": [],
   "source": [
    "# カテゴリカル変数の特徴量をリスト化\n",
    "cat_cols = Dataset.dtypes[Dataset.dtypes=='object'].index.tolist()\n",
    "# 数値変数の特徴量をリスト化\n",
    "num_cols = Dataset.dtypes[Dataset.dtypes!='object'].index.tolist()\n",
    "\n",
    "# カテゴリカル変数をダミー化\n",
    "alldata_cat = pd.get_dummies(Dataset[cat_cols])\n",
    "\n",
    "# データ統合\n",
    "all_data = pd.concat([Dataset[num_cols],alldata_cat],axis=1)"
   ]
  },
  {
   "cell_type": "code",
   "execution_count": 37,
   "id": "1431c7dc",
   "metadata": {
    "ExecuteTime": {
     "end_time": "2022-04-29T10:04:33.225857Z",
     "start_time": "2022-04-29T10:04:29.576610Z"
    }
   },
   "outputs": [
    {
     "name": "stderr",
     "output_type": "stream",
     "text": [
      "C:\\Users\\fumi9\\Desktop\\DFS\\WebAnalysis\\.WebAnalysisEnv\\lib\\site-packages\\seaborn\\distributions.py:2619: FutureWarning: `distplot` is a deprecated function and will be removed in a future version. Please adapt your code to use either `displot` (a figure-level function with similar flexibility) or `histplot` (an axes-level function for histograms).\n",
      "  warnings.warn(msg, FutureWarning)\n"
     ]
    },
    {
     "data": {
      "text/plain": [
       "<AxesSubplot:xlabel='SalePrice', ylabel='Density'>"
      ]
     },
     "execution_count": 37,
     "metadata": {},
     "output_type": "execute_result"
    },
    {
     "data": {
      "image/png": "[encoded data removed]",
      "text/plain": [
       "<Figure size 432x288 with 1 Axes>"
      ]
     },
     "metadata": {
      "needs_background": "light"
     },
     "output_type": "display_data"
    }
   ],
   "source": [
    "sns.distplot(all_data['SalePrice'])"
   ]
  },
  {
   "cell_type": "code",
   "execution_count": 39,
   "id": "92930fbb",
   "metadata": {
    "ExecuteTime": {
     "end_time": "2022-04-29T10:26:18.882964Z",
     "start_time": "2022-04-29T10:26:18.663403Z"
    }
   },
   "outputs": [
    {
     "name": "stderr",
     "output_type": "stream",
     "text": [
      "C:\\Users\\fumi9\\Desktop\\DFS\\WebAnalysis\\.WebAnalysisEnv\\lib\\site-packages\\seaborn\\distributions.py:2619: FutureWarning: `distplot` is a deprecated function and will be removed in a future version. Please adapt your code to use either `displot` (a figure-level function with similar flexibility) or `histplot` (an axes-level function for histograms).\n",
      "  warnings.warn(msg, FutureWarning)\n"
     ]
    },
    {
     "data": {
      "text/plain": [
       "<AxesSubplot:xlabel='SalePrice', ylabel='Density'>"
      ]
     },
     "execution_count": 39,
     "metadata": {},
     "output_type": "execute_result"
    },
    {
     "data": {
      "image/png": "[encoded data removed]",
      "text/plain": [
       "<Figure size 432x288 with 1 Axes>"
      ]
     },
     "metadata": {
      "needs_background": "light"
     },
     "output_type": "display_data"
    }
   ],
   "source": [
    "sns.distplot(np.log(all_data['SalePrice']))"
   ]
  },
  {
   "cell_type": "code",
   "execution_count": 45,
   "id": "7ac05d58",
   "metadata": {
    "ExecuteTime": {
     "end_time": "2022-04-29T10:33:06.041935Z",
     "start_time": "2022-04-29T10:33:06.011785Z"
    }
   },
   "outputs": [],
   "source": [
    "all_data_ready = all_data.drop(\"Id\", axis=1)"
   ]
  },
  {
   "cell_type": "code",
   "execution_count": 90,
   "id": "300d9660",
   "metadata": {
    "ExecuteTime": {
     "end_time": "2022-04-29T23:15:06.314825Z",
     "start_time": "2022-04-29T23:15:05.340734Z"
    }
   },
   "outputs": [
    {
     "data": {
      "image/png": "[encoded data removed]",
      "text/plain": [
       "<Figure size 432x288 with 1 Axes>"
      ]
     },
     "metadata": {
      "needs_background": "light"
     },
     "output_type": "display_data"
    },
    {
     "data": {
      "image/png": "[encoded data removed]",
      "text/plain": [
       "<Figure size 432x288 with 1 Axes>"
      ]
     },
     "metadata": {
      "needs_background": "light"
     },
     "output_type": "display_data"
    },
    {
     "name": "stdout",
     "output_type": "stream",
     "text": [
      "             固有値       寄与率     累積寄与率\n",
      "PC1    19.553510  0.063857  0.063857\n",
      "PC2     8.974791  0.029309  0.093166\n",
      "PC3     7.570898  0.024725  0.117890\n",
      "PC4     7.032564  0.022966  0.140857\n",
      "PC5     6.310722  0.020609  0.161466\n",
      "...          ...       ...       ...\n",
      "PC103   1.032556  0.003372  0.761039\n",
      "PC104   1.031223  0.003368  0.764406\n",
      "PC105   1.019207  0.003328  0.767735\n",
      "PC106   1.009547  0.003297  0.771032\n",
      "PC107   0.997164  0.003256  0.774288\n",
      "\n",
      "[107 rows x 3 columns]\n",
      "\n",
      "必要な成分数:107 (固有値1以上の成分)\n"
     ]
    }
   ],
   "source": [
    "#スクリ―プロット\n",
    "Target = all_data_ready\n",
    "\n",
    "# 標準化\n",
    "from sklearn.preprocessing import StandardScaler\n",
    "sc = StandardScaler() # インスタンスを生成･定義\n",
    "sc.fit(Target)            # データ変換の計算式を生成\n",
    "z = sc.transform(Target)  # 実際にデータを変換\n",
    "# print(\"標準化得点：\\n\", z)\n",
    "# print(\" \")\n",
    "# print(\"行列の形状：\", z.shape)\n",
    "\n",
    "# スクリ―プロット（主成分分析の固有値を高い順にプロットー＞一般に１以上が元データとの関連性が深い）\n",
    "from sklearn.decomposition import PCA\n",
    "pca = PCA() # インスタンスを生成･定義\n",
    "pca.fit(z)  # 標準化得点データにもとづいてモデルを生成\n",
    "ev = pca.explained_variance_# 固有値を取得\n",
    "\n",
    "ev_df = pd.DataFrame(ev, # 行名･列名を付与してデータフレームに変換\n",
    "             index=[\"PC{}\".format(x + 1) for x in range(len(Target.columns))], \n",
    "             columns=[\"固有値\"])\n",
    "\n",
    "# 基準線(固有値1)をひくためのダミーデータ\n",
    "ev_1 = np.ones(z.shape[1])\n",
    "\n",
    "# 変数を指定\n",
    "plt.title(\"Scree plot\")\n",
    "plt.plot(ev, 's-')   # 主成分分析による固有値\n",
    "plt.plot(ev_1, '-') # ダミーデータ\n",
    "\n",
    "# 軸名を指定\n",
    "plt.xlabel(\"Factor number\")\n",
    "plt.ylabel(\"Eigenvalue\")\n",
    "\n",
    "plt.grid()\n",
    "plt.show()\n",
    "\n",
    "# 寄与率の取得\n",
    "evr = pca.explained_variance_ratio_\n",
    "\n",
    "# 行名･列名を付与してデータフレームに変換\n",
    "evr_df = pd.DataFrame(evr, \n",
    "             index=[\"PC{}\".format(x + 1) for x in range(len(Target.columns))], \n",
    "             columns=[\"寄与率\"])\n",
    "\n",
    "# 起点0と寄与率の累積値をプロット\n",
    "plt.plot([0] + list(np.cumsum(evr)), \"-o\")\n",
    "\n",
    "cum_evr_df = pd.DataFrame(list(np.cumsum(evr)), \n",
    "             index=[\"PC{}\".format(x + 1) for x in range(len(Target.columns))], \n",
    "             columns=[\"累積寄与率\"])\n",
    "\n",
    "plt.title(\"Cumulative Contribution\")\n",
    "plt.xlabel(\"Principal Component Number\")\n",
    "plt.ylabel(\"Cumulative Contribution Rate\")\n",
    "\n",
    "plt.grid()\n",
    "plt.show()\n",
    "\n",
    "# print(pd.concat([ev_df, evr_df, cum_evr_df], axis=1).head(int(cum_evr_df[cum_evr_df > 0.5].isnull().sum() + 1)))\n",
    "print(pd.concat([ev_df, evr_df, cum_evr_df], axis=1).head(int(ev_df[ev_df < 1].isnull().sum() + 1)))\n",
    "print()\n",
    "\n",
    "# print(\"必要な因子の数:\" + str(int(cum_evr_df[cum_evr_df > 0.5].isnull().sum() + 1)) + \" (累積寄与率5x%になる因数)\")\n",
    "print(\"必要な成分数:\" + str(int(ev_df[ev_df < 1].isnull().sum() + 1)) + \" (固有値1以上の成分)\")"
   ]
  },
  {
   "cell_type": "code",
   "execution_count": 92,
   "id": "212ff494",
   "metadata": {
    "ExecuteTime": {
     "end_time": "2022-04-30T00:27:49.822797Z",
     "start_time": "2022-04-30T00:27:40.490263Z"
    },
    "scrolled": true
   },
   "outputs": [
    {
     "name": "stderr",
     "output_type": "stream",
     "text": [
      "C:\\Users\\fumi9\\AppData\\Local\\Temp\\ipykernel_4816\\1678270574.py:36: MatplotlibDeprecationWarning: Axes3D(fig) adding itself to the figure is deprecated since 3.4. Pass the keyword argument auto_add_to_figure=False and use fig.add_axes(ax) to suppress this warning. The default value of auto_add_to_figure will change to False in mpl3.5 and True values will no longer work in 3.6.  This is consistent with other Axes classes.\n",
      "  ax = Axes3D(fig)\n"
     ]
    },
    {
     "data": {
      "image/png": "[encoded data removed]",
      "text/plain": [
       "<Figure size 432x288 with 2 Axes>"
      ]
     },
     "metadata": {
      "needs_background": "light"
     },
     "output_type": "display_data"
    },
    {
     "data": {
      "text/plain": [
       "<Figure size 1152x864 with 0 Axes>"
      ]
     },
     "metadata": {},
     "output_type": "display_data"
    },
    {
     "name": "stdout",
     "output_type": "stream",
     "text": [
      "                       cluster0:227  cluster1:37  cluster2:406  cluster3:386  \\\n",
      "MSSubClass                56.233480    60.945946     45.985222     46.943005   \n",
      "LotFrontage               47.986784    54.891892     57.943350     69.463731   \n",
      "LotArea                16289.312775  9295.756757   9406.091133  11585.963731   \n",
      "OverallQual                6.273128     4.297297      5.184729      7.471503   \n",
      "OverallCond                5.850220     5.000000      5.815271      5.067358   \n",
      "...                             ...          ...           ...           ...   \n",
      "SaleCondition_Alloca       0.017621     0.081081      0.002463      0.002591   \n",
      "SaleCondition_Family       0.017621     0.000000      0.019704      0.005181   \n",
      "SaleCondition_Normal       0.876652     0.864865      0.886700      0.722798   \n",
      "SaleCondition_Partial      0.004405     0.000000      0.004926      0.243523   \n",
      "k_value                    0.000000     1.000000      2.000000      3.000000   \n",
      "\n",
      "                       cluster4:126  cluster5:278  \n",
      "MSSubClass               109.682540     62.733813  \n",
      "LotFrontage               40.349206     56.776978  \n",
      "LotArea                 5440.000000   8404.521583  \n",
      "OverallQual                6.992063      5.223022  \n",
      "OverallCond                5.039683      6.025180  \n",
      "...                             ...           ...  \n",
      "SaleCondition_Alloca       0.000000      0.010791  \n",
      "SaleCondition_Family       0.007937      0.017986  \n",
      "SaleCondition_Normal       0.738095      0.845324  \n",
      "SaleCondition_Partial      0.206349      0.007194  \n",
      "k_value                    4.000000      5.000000  \n",
      "\n",
      "[306 rows x 6 columns]\n",
      "                       cluster0:227  cluster1:37  cluster2:406  cluster3:386  \\\n",
      "MSSubClass                37.962757    44.997497     42.420759     25.474344   \n",
      "LotFrontage               47.532614    26.076579     31.143860     35.421909   \n",
      "LotArea                22097.305046  3325.000931   3648.500348   5321.602310   \n",
      "OverallQual                0.849430     1.050525      0.711710      1.042209   \n",
      "OverallCond                1.146189     1.105542      1.153786      0.408509   \n",
      "...                             ...          ...           ...           ...   \n",
      "SaleCondition_Alloca       0.131861     0.276725      0.049629      0.050899   \n",
      "SaleCondition_Family       0.131861     0.000000      0.139154      0.071888   \n",
      "SaleCondition_Normal       0.329563     0.346583      0.317351      0.448198   \n",
      "SaleCondition_Partial      0.066372     0.000000      0.070100      0.429765   \n",
      "k_value                    0.000000     0.000000      0.000000      0.000000   \n",
      "\n",
      "                       cluster4:126  cluster5:278  \n",
      "MSSubClass                45.447755     43.633372  \n",
      "LotFrontage               26.360369     22.641785  \n",
      "LotArea                 2797.778473   3930.922417  \n",
      "OverallQual                0.794944      1.168437  \n",
      "OverallCond                0.233265      1.484971  \n",
      "...                             ...           ...  \n",
      "SaleCondition_Alloca       0.000000      0.103506  \n",
      "SaleCondition_Family       0.089087      0.133139  \n",
      "SaleCondition_Normal       0.441426      0.362248  \n",
      "SaleCondition_Partial      0.406300      0.084666  \n",
      "k_value                    0.000000      0.000000  \n",
      "\n",
      "[306 rows x 6 columns]\n",
      "      MSSubClass  LotFrontage  LotArea  OverallQual  OverallCond  YearBuilt  \\\n",
      "0             60         65.0     8450            7            5       2003   \n",
      "1             20         80.0     9600            6            8       1976   \n",
      "2             60         68.0    11250            7            5       2001   \n",
      "3             70         60.0     9550            7            5       1915   \n",
      "4             60         84.0    14260            8            5       2000   \n",
      "...          ...          ...      ...          ...          ...        ...   \n",
      "1455          60         62.0     7917            6            5       1999   \n",
      "1456          20         85.0    13175            6            6       1978   \n",
      "1457          70         66.0     9042            7            9       1941   \n",
      "1458          20         68.0     9717            5            6       1950   \n",
      "1459          20         75.0     9937            5            6       1965   \n",
      "\n",
      "      YearRemodAdd  MasVnrArea  BsmtFinSF1  BsmtFinSF2  ...  SaleType_New  \\\n",
      "0             2003       196.0         706           0  ...             0   \n",
      "1             1976         0.0         978           0  ...             0   \n",
      "2             2002       162.0         486           0  ...             0   \n",
      "3             1970         0.0         216           0  ...             0   \n",
      "4             2000       350.0         655           0  ...             0   \n",
      "...            ...         ...         ...         ...  ...           ...   \n",
      "1455          2000         0.0           0           0  ...             0   \n",
      "1456          1988       119.0         790         163  ...             0   \n",
      "1457          2006         0.0         275           0  ...             0   \n",
      "1458          1996         0.0          49        1029  ...             0   \n",
      "1459          1965         0.0         830         290  ...             0   \n",
      "\n",
      "      SaleType_Oth  SaleType_WD  SaleCondition_Abnorml  SaleCondition_AdjLand  \\\n",
      "0                0            1                      0                      0   \n",
      "1                0            1                      0                      0   \n",
      "2                0            1                      0                      0   \n",
      "3                0            1                      1                      0   \n",
      "4                0            1                      0                      0   \n",
      "...            ...          ...                    ...                    ...   \n",
      "1455             0            1                      0                      0   \n",
      "1456             0            1                      0                      0   \n",
      "1457             0            1                      0                      0   \n",
      "1458             0            1                      0                      0   \n",
      "1459             0            1                      0                      0   \n",
      "\n",
      "      SaleCondition_Alloca  SaleCondition_Family  SaleCondition_Normal  \\\n",
      "0                        0                     0                     1   \n",
      "1                        0                     0                     1   \n",
      "2                        0                     0                     1   \n",
      "3                        0                     0                     0   \n",
      "4                        0                     0                     1   \n",
      "...                    ...                   ...                   ...   \n",
      "1455                     0                     0                     1   \n",
      "1456                     0                     0                     1   \n",
      "1457                     0                     0                     1   \n",
      "1458                     0                     0                     1   \n",
      "1459                     0                     0                     1   \n",
      "\n",
      "      SaleCondition_Partial  k_value  \n",
      "0                         0        3  \n",
      "1                         0        0  \n",
      "2                         0        3  \n",
      "3                         0        5  \n",
      "4                         0        3  \n",
      "...                     ...      ...  \n",
      "1455                      0        3  \n",
      "1456                      0        0  \n",
      "1457                      0        0  \n",
      "1458                      0        2  \n",
      "1459                      0        2  \n",
      "\n",
      "[1460 rows x 306 columns]\n"
     ]
    },
    {
     "data": {
      "image/png": "[encoded data removed]",
      "text/plain": [
       "<Figure size 432x288 with 1 Axes>"
      ]
     },
     "metadata": {
      "needs_background": "light"
     },
     "output_type": "display_data"
    },
    {
     "data": {
      "text/plain": [
       "<Figure size 288x216 with 0 Axes>"
      ]
     },
     "metadata": {},
     "output_type": "display_data"
    }
   ],
   "source": [
    "# kMeanクラスタリング\n",
    "import numpy as np\n",
    "import pandas as pd\n",
    "import matplotlib.pyplot as plt\n",
    "from sklearn.preprocessing import scale\n",
    "from sklearn.cluster import KMeans\n",
    "\n",
    "#モデルの作成 \n",
    "cluster_num = 6\n",
    "model = KMeans(n_clusters=cluster_num)# random_state=1\n",
    "\n",
    "#全主成分を使ってKmean\n",
    "df = Target\n",
    "df_scale = scale(df)\n",
    "\n",
    "#データを正規化し、fit関数により訓練を実施\n",
    "model = model.fit(df_scale)\n",
    "\n",
    "df_model = pd.DataFrame(model.labels_)\n",
    "df[\"k_value\"] = df_model\n",
    "\n",
    "# 3D graph描画用次元圧縮\n",
    "from sklearn.decomposition import PCA\n",
    "pca = PCA(n_components=3)\n",
    "arr_pca = pca.fit_transform(df_scale)\n",
    "arr_pca\n",
    "\n",
    "# 可視化 3次元\n",
    "df_pca = pd.DataFrame(arr_pca,columns = [\"pca_1\",\"pca_2\", \"pca_3\"])\n",
    "from matplotlib import pyplot as plt\n",
    "import numpy as np\n",
    "from mpl_toolkits.mplot3d.axes3d import Axes3D\n",
    "color_value = df[\"k_value\"]\n",
    "fig = plt.figure()\n",
    "ax = Axes3D(fig)\n",
    "ax.view_init(30, 30)  \n",
    "cm = plt.cm.get_cmap('RdYlBu')\n",
    "mappable = ax.scatter(df_pca[\"pca_1\"].to_numpy(), df_pca[\"pca_2\"].to_numpy(), df_pca[\"pca_3\"].to_numpy(), c=color_value, cmap=cm)\n",
    "fig.colorbar(mappable, ax=ax)\n",
    "plt.figure(figsize=(16,12))\n",
    "plt.show()\n",
    "\n",
    "#Cluster内の要素の平均と標準偏差\n",
    "minfo = pd.DataFrame()\n",
    "for i in range(cluster_num):\n",
    "    minfo['cluster' + str(i) + ':' + str(len(df[df[\"k_value\"]==i]))] = df[df['k_value'] == i].mean()\n",
    "sinfo = pd.DataFrame()\n",
    "for i in range(cluster_num):\n",
    "    sinfo['cluster' + str(i) + ':' + str(len(df[df[\"k_value\"]==i]))] = df[df['k_value'] == i].std()\n",
    "\n",
    "print(minfo)\n",
    "print(sinfo)\n",
    "print(df)\n",
    "\n",
    "import matplotlib.pyplot as plt\n",
    "labels = range(len(df.columns)) #range(340) #df.columns #['C1', 'C2', 'C3', 'C4', 'C5']\n",
    "width = 0.35       # the width of the bars: can also be len(x) sequence\n",
    "\n",
    "df_scaleDF = pd.DataFrame(df_scale.T, df.columns[0:len(df.columns)]).T\n",
    "df_scaleDF[\"k_value\"] = df_model\n",
    "\n",
    "minfo_scale = pd.DataFrame()\n",
    "for i in range(cluster_num):\n",
    "    minfo_scale['cluster' + str(i) + ':' + str(len(df[df[\"k_value\"]==i]))] = df_scaleDF[df_scaleDF['k_value'] == i].mean()\n",
    "sinfo_scale = pd.DataFrame()\n",
    "for i in range(cluster_num):\n",
    "    sinfo_scale['cluster' + str(i) + ':' + str(len(df[df[\"k_value\"]==i]))] = df_scaleDF[df_scaleDF['k_value'] == i].std()\n",
    "\n",
    "# print(minfo_scale)\n",
    "# print(sinfo_scale)\n",
    "\n",
    "fig, ax = plt.subplots()\n",
    "# for i in range(cluster_num):\n",
    "#   means = minfo['cluster' + str(i) + ':' + str(len(df[df[\"k_value\"]==i]))]\n",
    "#   std = sinfo['cluster' + str(i) + ':' + str(len(df[df[\"k_value\"]==i]))]\n",
    "#   ax.bar(labels, means, width, yerr=std, label=i)\n",
    "for i in range(cluster_num):\n",
    "  means = minfo_scale['cluster' + str(i) + ':' + str(len(df[df[\"k_value\"]==i]))][0:len(df.columns)]\n",
    "  std = sinfo_scale['cluster' + str(i) + ':' + str(len(df[df[\"k_value\"]==i]))][0:len(df.columns)]\n",
    "  ax.bar(labels, means, width, yerr=std, label=i)\n",
    "ax.set_ylabel('Scores')\n",
    "ax.set_title('Showing the dominant ratio of each category')\n",
    "ax.legend()\n",
    "\n",
    "plt.figure(figsize=(4,3))\n",
    "plt.show()"
   ]
  },
  {
   "cell_type": "code",
   "execution_count": 121,
   "id": "25ca32d1",
   "metadata": {
    "ExecuteTime": {
     "end_time": "2022-05-01T09:48:56.718958Z",
     "start_time": "2022-05-01T09:48:56.587674Z"
    },
    "scrolled": true
   },
   "outputs": [
    {
     "data": {
      "text/plain": [
       "269"
      ]
     },
     "execution_count": 121,
     "metadata": {},
     "output_type": "execute_result"
    }
   ],
   "source": [
    "len(coeff_df[coeff_df[\"Coefficient Estimate\"]!=0])"
   ]
  },
  {
   "cell_type": "code",
   "execution_count": 122,
   "id": "84fdc6c7",
   "metadata": {
    "ExecuteTime": {
     "end_time": "2022-05-01T09:56:57.310470Z",
     "start_time": "2022-05-01T09:56:56.589532Z"
    }
   },
   "outputs": [
    {
     "name": "stderr",
     "output_type": "stream",
     "text": [
      "C:\\Users\\fumi9\\Desktop\\DFS\\WebAnalysis\\.WebAnalysisEnv\\lib\\site-packages\\sklearn\\linear_model\\_coordinate_descent.py:647: ConvergenceWarning: Objective did not converge. You might want to increase the number of iterations, check the scale of the features or consider increasing regularisation. Duality gap: 3.060e+11, tolerance: 9.208e+08\n",
      "  model = cd_fast.enet_coordinate_descent(\n"
     ]
    }
   ],
   "source": [
    "### ----------------- 重回帰分析 ------------------ ###\n",
    "import sklearn\n",
    "from sklearn.linear_model import LinearRegression\n",
    "from sklearn.linear_model import Lasso\n",
    "\n",
    "df = Target\n",
    "\n",
    "# dum_dataset = short_dataset.copy()\n",
    "# dum_dataset[Stock] = dum_dataset[Stock].shift(-1) # 1(-1)日後の株価を、今日までの他のストックの価格を使ってを予測\n",
    "# dum_dataset.dropna(inplace=True)\n",
    "\n",
    "lreg = Lasso()#LinearRegression()\n",
    "x_multi = df.drop(\"SalePrice\", axis=1)\n",
    "x_multi.shape\n",
    "y_target = df[\"SalePrice\"]\n",
    "lreg.fit(x_multi, y_target)\n",
    "# print(lreg.intercept_)\n",
    "# print(len(lreg.coef_))\n",
    "\n",
    "#Linear regression\n",
    "coeff_df = pd.DataFrame(df.columns)\n",
    "coeff_df.columns = ['Features']\n",
    "coeff_df['Coefficient Estimate'] = pd.Series(lreg.coef_)\n",
    "coeff_df.to_csv('C:/Users/fumi9/Desktop/DFS/Colab Notebooks/Kaggle/HousePrice/coeff.csv')\n",
    "\n",
    "\n",
    "df[coeff_df[coeff_df[\"Coefficient Estimate\"]!=0]]\n",
    "\n",
    "# path = 'C:/Users/fumi9/Desktop/DFS/Colab Notebooks/Kaggle/HousePrice'\n",
    "# Dataset = pd.read_csv(os.getcwd() + \"/train.csv\", encoding='CP932')\n",
    "\n",
    "# #Training\n",
    "# X_train, X_test, Y_train, Y_test = sklearn.model_selection.train_test_split(x_multi, y_target)\n",
    "# print(X_train.shape, X_test.shape, Y_train.shape, Y_test.shape )\n",
    "# lreg = Lasso()#LinearRegression()\n",
    "# lreg.fit(X_train, Y_train)\n",
    "\n",
    "# pred_train = lreg.predict(X_train)\n",
    "# pred_test = lreg.predict(X_test)\n",
    "# print(np.mean((Y_train - pred_train) ** 2))\n",
    "# print(np.mean((Y_test - pred_test) ** 2))"
   ]
  },
  {
   "cell_type": "code",
   "execution_count": 131,
   "id": "f54e93e1",
   "metadata": {
    "ExecuteTime": {
     "end_time": "2022-05-01T10:03:04.250135Z",
     "start_time": "2022-05-01T10:03:04.218896Z"
    }
   },
   "outputs": [
    {
     "data": {
      "text/plain": [
       "Index(['MSSubClass', 'LotFrontage', 'LotArea', 'OverallQual', 'OverallCond',\n",
       "       'YearBuilt', 'YearRemodAdd', 'MasVnrArea', 'BsmtFinSF1', 'BsmtFinSF2',\n",
       "       ...\n",
       "       'SaleType_ConLI', 'SaleType_ConLw', 'SaleType_Oth', 'SaleType_WD',\n",
       "       'SaleCondition_Abnorml', 'SaleCondition_Alloca', 'SaleCondition_Family',\n",
       "       'SaleCondition_Normal', 'SaleCondition_Partial', 'k_value'],\n",
       "      dtype='object', length=269)"
      ]
     },
     "execution_count": 131,
     "metadata": {},
     "output_type": "execute_result"
    }
   ],
   "source": [
    "df[coeff_df[coeff_df[\"Coefficient Estimate\"]!=0][\"Features\"]].columns"
   ]
  },
  {
   "cell_type": "code",
   "execution_count": 132,
   "id": "9a0726f2",
   "metadata": {
    "ExecuteTime": {
     "end_time": "2022-05-01T10:03:15.183432Z",
     "start_time": "2022-05-01T10:03:13.818097Z"
    }
   },
   "outputs": [
    {
     "data": {
      "image/png": "[encoded data removed]",
      "text/plain": [
       "<Figure size 432x288 with 1 Axes>"
      ]
     },
     "metadata": {
      "needs_background": "light"
     },
     "output_type": "display_data"
    },
    {
     "data": {
      "image/png": "[encoded data removed]",
      "text/plain": [
       "<Figure size 432x288 with 1 Axes>"
      ]
     },
     "metadata": {
      "needs_background": "light"
     },
     "output_type": "display_data"
    },
    {
     "name": "stdout",
     "output_type": "stream",
     "text": [
      "            固有値       寄与率     累積寄与率\n",
      "PC1   17.781871  0.066305  0.066305\n",
      "PC2    8.300888  0.030952  0.097257\n",
      "PC3    6.719523  0.025056  0.122313\n",
      "PC4    6.445487  0.024034  0.146347\n",
      "PC5    5.917363  0.022065  0.168411\n",
      "...         ...       ...       ...\n",
      "PC90   1.036677  0.003866  0.743594\n",
      "PC91   1.023399  0.003816  0.747410\n",
      "PC92   1.013704  0.003780  0.751190\n",
      "PC93   1.003997  0.003744  0.754934\n",
      "PC94   0.989451  0.003689  0.758624\n",
      "\n",
      "[94 rows x 3 columns]\n",
      "\n",
      "必要な成分数:94 (固有値1以上の成分)\n"
     ]
    }
   ],
   "source": [
    "#スクリ―プロット2\n",
    "Target = df[coeff_df[coeff_df[\"Coefficient Estimate\"]!=0][\"Features\"]].drop(\"k_value\", axis=1)\n",
    "\n",
    "# 標準化\n",
    "from sklearn.preprocessing import StandardScaler\n",
    "sc = StandardScaler() # インスタンスを生成･定義\n",
    "sc.fit(Target)            # データ変換の計算式を生成\n",
    "z = sc.transform(Target)  # 実際にデータを変換\n",
    "# print(\"標準化得点：\\n\", z)\n",
    "# print(\" \")\n",
    "# print(\"行列の形状：\", z.shape)\n",
    "\n",
    "# スクリ―プロット（主成分分析の固有値を高い順にプロットー＞一般に１以上が元データとの関連性が深い）\n",
    "from sklearn.decomposition import PCA\n",
    "pca = PCA() # インスタンスを生成･定義\n",
    "pca.fit(z)  # 標準化得点データにもとづいてモデルを生成\n",
    "ev = pca.explained_variance_# 固有値を取得\n",
    "\n",
    "ev_df = pd.DataFrame(ev, # 行名･列名を付与してデータフレームに変換\n",
    "             index=[\"PC{}\".format(x + 1) for x in range(len(Target.columns))], \n",
    "             columns=[\"固有値\"])\n",
    "\n",
    "# 基準線(固有値1)をひくためのダミーデータ\n",
    "ev_1 = np.ones(z.shape[1])\n",
    "\n",
    "# 変数を指定\n",
    "plt.title(\"Scree plot\")\n",
    "plt.plot(ev, 's-')   # 主成分分析による固有値\n",
    "plt.plot(ev_1, '-') # ダミーデータ\n",
    "\n",
    "# 軸名を指定\n",
    "plt.xlabel(\"Factor number\")\n",
    "plt.ylabel(\"Eigenvalue\")\n",
    "\n",
    "plt.grid()\n",
    "plt.show()\n",
    "\n",
    "# 寄与率の取得\n",
    "evr = pca.explained_variance_ratio_\n",
    "\n",
    "# 行名･列名を付与してデータフレームに変換\n",
    "evr_df = pd.DataFrame(evr, \n",
    "             index=[\"PC{}\".format(x + 1) for x in range(len(Target.columns))], \n",
    "             columns=[\"寄与率\"])\n",
    "\n",
    "# 起点0と寄与率の累積値をプロット\n",
    "plt.plot([0] + list(np.cumsum(evr)), \"-o\")\n",
    "\n",
    "cum_evr_df = pd.DataFrame(list(np.cumsum(evr)), \n",
    "             index=[\"PC{}\".format(x + 1) for x in range(len(Target.columns))], \n",
    "             columns=[\"累積寄与率\"])\n",
    "\n",
    "plt.title(\"Cumulative Contribution\")\n",
    "plt.xlabel(\"Principal Component Number\")\n",
    "plt.ylabel(\"Cumulative Contribution Rate\")\n",
    "\n",
    "plt.grid()\n",
    "plt.show()\n",
    "\n",
    "# print(pd.concat([ev_df, evr_df, cum_evr_df], axis=1).head(int(cum_evr_df[cum_evr_df > 0.5].isnull().sum() + 1)))\n",
    "print(pd.concat([ev_df, evr_df, cum_evr_df], axis=1).head(int(ev_df[ev_df < 1].isnull().sum() + 1)))\n",
    "print()\n",
    "\n",
    "# print(\"必要な因子の数:\" + str(int(cum_evr_df[cum_evr_df > 0.5].isnull().sum() + 1)) + \" (累積寄与率5x%になる因数)\")\n",
    "print(\"必要な成分数:\" + str(int(ev_df[ev_df < 1].isnull().sum() + 1)) + \" (固有値1以上の成分)\")"
   ]
  },
  {
   "cell_type": "code",
   "execution_count": 135,
   "id": "9bded25e",
   "metadata": {
    "ExecuteTime": {
     "end_time": "2022-05-01T10:10:41.113396Z",
     "start_time": "2022-05-01T10:10:31.010897Z"
    }
   },
   "outputs": [
    {
     "name": "stderr",
     "output_type": "stream",
     "text": [
      "C:\\Users\\fumi9\\AppData\\Local\\Temp\\ipykernel_4816\\2512906362.py:35: MatplotlibDeprecationWarning: Axes3D(fig) adding itself to the figure is deprecated since 3.4. Pass the keyword argument auto_add_to_figure=False and use fig.add_axes(ax) to suppress this warning. The default value of auto_add_to_figure will change to False in mpl3.5 and True values will no longer work in 3.6.  This is consistent with other Axes classes.\n",
      "  ax = Axes3D(fig)\n"
     ]
    },
    {
     "data": {
      "image/png": "[encoded data removed]",
      "text/plain": [
       "<Figure size 432x288 with 2 Axes>"
      ]
     },
     "metadata": {
      "needs_background": "light"
     },
     "output_type": "display_data"
    },
    {
     "data": {
      "text/plain": [
       "<Figure size 1152x864 with 0 Axes>"
      ]
     },
     "metadata": {},
     "output_type": "display_data"
    },
    {
     "name": "stdout",
     "output_type": "stream",
     "text": [
      "                       cluster0:376  cluster1:81  cluster2:273  cluster3:374  \\\n",
      "MSSubClass                47.287234    71.790123     57.985348     68.061497   \n",
      "LotFrontage               57.393617    55.185185     57.252747     52.949198   \n",
      "LotArea                 9406.502660  7469.679012   9008.641026   8787.489305   \n",
      "OverallQual                5.234043     4.604938      5.263736      6.871658   \n",
      "OverallCond                5.909574     5.530864      5.959707      5.053476   \n",
      "...                             ...          ...           ...           ...   \n",
      "SaleCondition_Alloca       0.002660     0.012346      0.018315      0.002674   \n",
      "SaleCondition_Family       0.021277     0.000000      0.018315      0.002674   \n",
      "SaleCondition_Normal       0.882979     0.753086      0.882784      0.802139   \n",
      "SaleCondition_Partial      0.002660     0.024691      0.000000      0.157754   \n",
      "k_value                    0.000000     1.000000      2.000000      3.000000   \n",
      "\n",
      "                       cluster4:160  cluster5:196  \n",
      "MSSubClass                 46.00000     55.255102  \n",
      "LotFrontage                82.71875     48.020408  \n",
      "LotArea                 13157.80000  17150.775510  \n",
      "OverallQual                 8.31875      6.255102  \n",
      "OverallCond                 5.06250      5.831633  \n",
      "...                             ...           ...  \n",
      "SaleCondition_Alloca        0.00000      0.020408  \n",
      "SaleCondition_Family        0.01250      0.020408  \n",
      "SaleCondition_Normal        0.56875      0.882653  \n",
      "SaleCondition_Partial       0.38750      0.005102  \n",
      "k_value                     4.00000      5.000000  \n",
      "\n",
      "[269 rows x 6 columns]\n",
      "                       cluster0:376  cluster1:81  cluster2:273  cluster3:374  \\\n",
      "MSSubClass                43.727428    58.327248     36.093320     43.598816   \n",
      "LotFrontage               32.127568    27.592169     23.235492     32.333883   \n",
      "LotArea                 3725.456649  3116.165893   4069.501907   3706.292961   \n",
      "OverallQual                0.676075     1.136651      1.167909      0.771197   \n",
      "OverallCond                1.132461     1.565938      1.460959      0.287964   \n",
      "...                             ...          ...           ...           ...   \n",
      "SaleCondition_Alloca       0.051571     0.111111      0.134334      0.051709   \n",
      "SaleCondition_Family       0.144497     0.000000      0.134334      0.051709   \n",
      "SaleCondition_Normal       0.321874     0.433903      0.322268      0.398920   \n",
      "SaleCondition_Partial      0.051571     0.156150      0.000000      0.364998   \n",
      "k_value                    0.000000     0.000000      0.000000      0.000000   \n",
      "\n",
      "                       cluster4:160  cluster5:196  \n",
      "MSSubClass                29.207563     39.437535  \n",
      "LotFrontage               35.041426     47.802045  \n",
      "LotArea                 7230.083345  23613.945333  \n",
      "OverallQual                0.826996      0.863044  \n",
      "OverallCond                0.497636      1.108114  \n",
      "...                             ...           ...  \n",
      "SaleCondition_Alloca       0.000000      0.141754  \n",
      "SaleCondition_Family       0.111451      0.141754  \n",
      "SaleCondition_Normal       0.496806      0.322657  \n",
      "SaleCondition_Partial      0.488709      0.071429  \n",
      "k_value                    0.000000      0.000000  \n",
      "\n",
      "[269 rows x 6 columns]\n",
      "      MSSubClass  LotFrontage  LotArea  OverallQual  OverallCond  YearBuilt  \\\n",
      "0             60         65.0     8450            7            5       2003   \n",
      "1             20         80.0     9600            6            8       1976   \n",
      "2             60         68.0    11250            7            5       2001   \n",
      "3             70         60.0     9550            7            5       1915   \n",
      "4             60         84.0    14260            8            5       2000   \n",
      "...          ...          ...      ...          ...          ...        ...   \n",
      "1455          60         62.0     7917            6            5       1999   \n",
      "1456          20         85.0    13175            6            6       1978   \n",
      "1457          70         66.0     9042            7            9       1941   \n",
      "1458          20         68.0     9717            5            6       1950   \n",
      "1459          20         75.0     9937            5            6       1965   \n",
      "\n",
      "      YearRemodAdd  MasVnrArea  BsmtFinSF1  BsmtFinSF2  ...  SaleType_ConLI  \\\n",
      "0             2003       196.0         706           0  ...               0   \n",
      "1             1976         0.0         978           0  ...               0   \n",
      "2             2002       162.0         486           0  ...               0   \n",
      "3             1970         0.0         216           0  ...               0   \n",
      "4             2000       350.0         655           0  ...               0   \n",
      "...            ...         ...         ...         ...  ...             ...   \n",
      "1455          2000         0.0           0           0  ...               0   \n",
      "1456          1988       119.0         790         163  ...               0   \n",
      "1457          2006         0.0         275           0  ...               0   \n",
      "1458          1996         0.0          49        1029  ...               0   \n",
      "1459          1965         0.0         830         290  ...               0   \n",
      "\n",
      "      SaleType_ConLw  SaleType_Oth  SaleType_WD  SaleCondition_Abnorml  \\\n",
      "0                  0             0            1                      0   \n",
      "1                  0             0            1                      0   \n",
      "2                  0             0            1                      0   \n",
      "3                  0             0            1                      1   \n",
      "4                  0             0            1                      0   \n",
      "...              ...           ...          ...                    ...   \n",
      "1455               0             0            1                      0   \n",
      "1456               0             0            1                      0   \n",
      "1457               0             0            1                      0   \n",
      "1458               0             0            1                      0   \n",
      "1459               0             0            1                      0   \n",
      "\n",
      "      SaleCondition_Alloca  SaleCondition_Family  SaleCondition_Normal  \\\n",
      "0                        0                     0                     1   \n",
      "1                        0                     0                     1   \n",
      "2                        0                     0                     1   \n",
      "3                        0                     0                     0   \n",
      "4                        0                     0                     1   \n",
      "...                    ...                   ...                   ...   \n",
      "1455                     0                     0                     1   \n",
      "1456                     0                     0                     1   \n",
      "1457                     0                     0                     1   \n",
      "1458                     0                     0                     1   \n",
      "1459                     0                     0                     1   \n",
      "\n",
      "      SaleCondition_Partial  k_value  \n",
      "0                         0        3  \n",
      "1                         0        5  \n",
      "2                         0        3  \n",
      "3                         0        2  \n",
      "4                         0        4  \n",
      "...                     ...      ...  \n",
      "1455                      0        3  \n",
      "1456                      0        5  \n",
      "1457                      0        5  \n",
      "1458                      0        0  \n",
      "1459                      0        0  \n",
      "\n",
      "[1460 rows x 269 columns]\n"
     ]
    },
    {
     "ename": "TypeError",
     "evalue": "unsupported operand type(s) for -: 'str' and 'int'",
     "output_type": "error",
     "traceback": [
      "\u001b[1;31m---------------------------------------------------------------------------\u001b[0m",
      "\u001b[1;31mTypeError\u001b[0m                                 Traceback (most recent call last)",
      "File \u001b[1;32m~\\Desktop\\DFS\\WebAnalysis\\.WebAnalysisEnv\\lib\\site-packages\\pandas\\core\\ops\\array_ops.py:166\u001b[0m, in \u001b[0;36m_na_arithmetic_op\u001b[1;34m(left, right, op, is_cmp)\u001b[0m\n\u001b[0;32m    165\u001b[0m \u001b[38;5;28;01mtry\u001b[39;00m:\n\u001b[1;32m--> 166\u001b[0m     result \u001b[38;5;241m=\u001b[39m \u001b[43mfunc\u001b[49m\u001b[43m(\u001b[49m\u001b[43mleft\u001b[49m\u001b[43m,\u001b[49m\u001b[43m \u001b[49m\u001b[43mright\u001b[49m\u001b[43m)\u001b[49m\n\u001b[0;32m    167\u001b[0m \u001b[38;5;28;01mexcept\u001b[39;00m \u001b[38;5;167;01mTypeError\u001b[39;00m:\n",
      "File \u001b[1;32m~\\Desktop\\DFS\\WebAnalysis\\.WebAnalysisEnv\\lib\\site-packages\\pandas\\core\\computation\\expressions.py:239\u001b[0m, in \u001b[0;36mevaluate\u001b[1;34m(op, a, b, use_numexpr)\u001b[0m\n\u001b[0;32m    237\u001b[0m     \u001b[38;5;28;01mif\u001b[39;00m use_numexpr:\n\u001b[0;32m    238\u001b[0m         \u001b[38;5;66;03m# error: \"None\" not callable\u001b[39;00m\n\u001b[1;32m--> 239\u001b[0m         \u001b[38;5;28;01mreturn\u001b[39;00m \u001b[43m_evaluate\u001b[49m\u001b[43m(\u001b[49m\u001b[43mop\u001b[49m\u001b[43m,\u001b[49m\u001b[43m \u001b[49m\u001b[43mop_str\u001b[49m\u001b[43m,\u001b[49m\u001b[43m \u001b[49m\u001b[43ma\u001b[49m\u001b[43m,\u001b[49m\u001b[43m \u001b[49m\u001b[43mb\u001b[49m\u001b[43m)\u001b[49m  \u001b[38;5;66;03m# type: ignore[misc]\u001b[39;00m\n\u001b[0;32m    240\u001b[0m \u001b[38;5;28;01mreturn\u001b[39;00m _evaluate_standard(op, op_str, a, b)\n",
      "File \u001b[1;32m~\\Desktop\\DFS\\WebAnalysis\\.WebAnalysisEnv\\lib\\site-packages\\pandas\\core\\computation\\expressions.py:69\u001b[0m, in \u001b[0;36m_evaluate_standard\u001b[1;34m(op, op_str, a, b)\u001b[0m\n\u001b[0;32m     68\u001b[0m     _store_test_result(\u001b[38;5;28;01mFalse\u001b[39;00m)\n\u001b[1;32m---> 69\u001b[0m \u001b[38;5;28;01mreturn\u001b[39;00m \u001b[43mop\u001b[49m\u001b[43m(\u001b[49m\u001b[43ma\u001b[49m\u001b[43m,\u001b[49m\u001b[43m \u001b[49m\u001b[43mb\u001b[49m\u001b[43m)\u001b[49m\n",
      "\u001b[1;31mTypeError\u001b[0m: unsupported operand type(s) for -: 'str' and 'int'",
      "\nDuring handling of the above exception, another exception occurred:\n",
      "\u001b[1;31mTypeError\u001b[0m                                 Traceback (most recent call last)",
      "Input \u001b[1;32mIn [135]\u001b[0m, in \u001b[0;36m<module>\u001b[1;34m\u001b[0m\n\u001b[0;32m     56\u001b[0m labels \u001b[38;5;241m=\u001b[39m \u001b[38;5;28mrange\u001b[39m(\u001b[38;5;28mlen\u001b[39m(df\u001b[38;5;241m.\u001b[39mcolumns)) \u001b[38;5;66;03m#range(340) #df.columns #['C1', 'C2', 'C3', 'C4', 'C5']\u001b[39;00m\n\u001b[0;32m     57\u001b[0m width \u001b[38;5;241m=\u001b[39m \u001b[38;5;241m0.35\u001b[39m       \u001b[38;5;66;03m# the width of the bars: can also be len(x) sequence\u001b[39;00m\n\u001b[1;32m---> 59\u001b[0m df_scaleDF \u001b[38;5;241m=\u001b[39m pd\u001b[38;5;241m.\u001b[39mDataFrame(df_scale\u001b[38;5;241m.\u001b[39mT, \u001b[43mdf\u001b[49m\u001b[38;5;241;43m.\u001b[39;49m\u001b[43mcolumns\u001b[49m\u001b[43m[\u001b[49m\u001b[38;5;241;43m0\u001b[39;49m\u001b[43m:\u001b[49m\u001b[38;5;28;43mlen\u001b[39;49m\u001b[43m(\u001b[49m\u001b[43mdf\u001b[49m\u001b[38;5;241;43m.\u001b[39;49m\u001b[43mcolumns\u001b[49m\u001b[43m)\u001b[49m\u001b[43m]\u001b[49m\u001b[38;5;241;43m-\u001b[39;49m\u001b[38;5;241;43m1\u001b[39;49m)\u001b[38;5;241m.\u001b[39mT\n\u001b[0;32m     60\u001b[0m df_scaleDF[\u001b[38;5;124m\"\u001b[39m\u001b[38;5;124mk_value\u001b[39m\u001b[38;5;124m\"\u001b[39m] \u001b[38;5;241m=\u001b[39m df_model\n\u001b[0;32m     62\u001b[0m minfo_scale \u001b[38;5;241m=\u001b[39m pd\u001b[38;5;241m.\u001b[39mDataFrame()\n",
      "File \u001b[1;32m~\\Desktop\\DFS\\WebAnalysis\\.WebAnalysisEnv\\lib\\site-packages\\pandas\\core\\ops\\common.py:69\u001b[0m, in \u001b[0;36m_unpack_zerodim_and_defer.<locals>.new_method\u001b[1;34m(self, other)\u001b[0m\n\u001b[0;32m     65\u001b[0m             \u001b[38;5;28;01mreturn\u001b[39;00m \u001b[38;5;28mNotImplemented\u001b[39m\n\u001b[0;32m     67\u001b[0m other \u001b[38;5;241m=\u001b[39m item_from_zerodim(other)\n\u001b[1;32m---> 69\u001b[0m \u001b[38;5;28;01mreturn\u001b[39;00m \u001b[43mmethod\u001b[49m\u001b[43m(\u001b[49m\u001b[38;5;28;43mself\u001b[39;49m\u001b[43m,\u001b[49m\u001b[43m \u001b[49m\u001b[43mother\u001b[49m\u001b[43m)\u001b[49m\n",
      "File \u001b[1;32m~\\Desktop\\DFS\\WebAnalysis\\.WebAnalysisEnv\\lib\\site-packages\\pandas\\core\\arraylike.py:100\u001b[0m, in \u001b[0;36mOpsMixin.__sub__\u001b[1;34m(self, other)\u001b[0m\n\u001b[0;32m     98\u001b[0m \u001b[38;5;129m@unpack_zerodim_and_defer\u001b[39m(\u001b[38;5;124m\"\u001b[39m\u001b[38;5;124m__sub__\u001b[39m\u001b[38;5;124m\"\u001b[39m)\n\u001b[0;32m     99\u001b[0m \u001b[38;5;28;01mdef\u001b[39;00m \u001b[38;5;21m__sub__\u001b[39m(\u001b[38;5;28mself\u001b[39m, other):\n\u001b[1;32m--> 100\u001b[0m     \u001b[38;5;28;01mreturn\u001b[39;00m \u001b[38;5;28;43mself\u001b[39;49m\u001b[38;5;241;43m.\u001b[39;49m\u001b[43m_arith_method\u001b[49m\u001b[43m(\u001b[49m\u001b[43mother\u001b[49m\u001b[43m,\u001b[49m\u001b[43m \u001b[49m\u001b[43moperator\u001b[49m\u001b[38;5;241;43m.\u001b[39;49m\u001b[43msub\u001b[49m\u001b[43m)\u001b[49m\n",
      "File \u001b[1;32m~\\Desktop\\DFS\\WebAnalysis\\.WebAnalysisEnv\\lib\\site-packages\\pandas\\core\\indexes\\base.py:6072\u001b[0m, in \u001b[0;36mIndex._arith_method\u001b[1;34m(self, other, op)\u001b[0m\n\u001b[0;32m   6066\u001b[0m \u001b[38;5;124;03m\"\"\"\u001b[39;00m\n\u001b[0;32m   6067\u001b[0m \u001b[38;5;124;03mWrapper used to dispatch arithmetic operations.\u001b[39;00m\n\u001b[0;32m   6068\u001b[0m \u001b[38;5;124;03m\"\"\"\u001b[39;00m\n\u001b[0;32m   6070\u001b[0m \u001b[38;5;28;01mfrom\u001b[39;00m \u001b[38;5;21;01mpandas\u001b[39;00m \u001b[38;5;28;01mimport\u001b[39;00m Series\n\u001b[1;32m-> 6072\u001b[0m result \u001b[38;5;241m=\u001b[39m \u001b[43mop\u001b[49m\u001b[43m(\u001b[49m\u001b[43mSeries\u001b[49m\u001b[43m(\u001b[49m\u001b[38;5;28;43mself\u001b[39;49m\u001b[43m)\u001b[49m\u001b[43m,\u001b[49m\u001b[43m \u001b[49m\u001b[43mother\u001b[49m\u001b[43m)\u001b[49m\n\u001b[0;32m   6073\u001b[0m \u001b[38;5;28;01mif\u001b[39;00m \u001b[38;5;28misinstance\u001b[39m(result, \u001b[38;5;28mtuple\u001b[39m):\n\u001b[0;32m   6074\u001b[0m     \u001b[38;5;28;01mreturn\u001b[39;00m (Index(result[\u001b[38;5;241m0\u001b[39m]), Index(result[\u001b[38;5;241m1\u001b[39m]))\n",
      "File \u001b[1;32m~\\Desktop\\DFS\\WebAnalysis\\.WebAnalysisEnv\\lib\\site-packages\\pandas\\core\\ops\\common.py:69\u001b[0m, in \u001b[0;36m_unpack_zerodim_and_defer.<locals>.new_method\u001b[1;34m(self, other)\u001b[0m\n\u001b[0;32m     65\u001b[0m             \u001b[38;5;28;01mreturn\u001b[39;00m \u001b[38;5;28mNotImplemented\u001b[39m\n\u001b[0;32m     67\u001b[0m other \u001b[38;5;241m=\u001b[39m item_from_zerodim(other)\n\u001b[1;32m---> 69\u001b[0m \u001b[38;5;28;01mreturn\u001b[39;00m \u001b[43mmethod\u001b[49m\u001b[43m(\u001b[49m\u001b[38;5;28;43mself\u001b[39;49m\u001b[43m,\u001b[49m\u001b[43m \u001b[49m\u001b[43mother\u001b[49m\u001b[43m)\u001b[49m\n",
      "File \u001b[1;32m~\\Desktop\\DFS\\WebAnalysis\\.WebAnalysisEnv\\lib\\site-packages\\pandas\\core\\arraylike.py:100\u001b[0m, in \u001b[0;36mOpsMixin.__sub__\u001b[1;34m(self, other)\u001b[0m\n\u001b[0;32m     98\u001b[0m \u001b[38;5;129m@unpack_zerodim_and_defer\u001b[39m(\u001b[38;5;124m\"\u001b[39m\u001b[38;5;124m__sub__\u001b[39m\u001b[38;5;124m\"\u001b[39m)\n\u001b[0;32m     99\u001b[0m \u001b[38;5;28;01mdef\u001b[39;00m \u001b[38;5;21m__sub__\u001b[39m(\u001b[38;5;28mself\u001b[39m, other):\n\u001b[1;32m--> 100\u001b[0m     \u001b[38;5;28;01mreturn\u001b[39;00m \u001b[38;5;28;43mself\u001b[39;49m\u001b[38;5;241;43m.\u001b[39;49m\u001b[43m_arith_method\u001b[49m\u001b[43m(\u001b[49m\u001b[43mother\u001b[49m\u001b[43m,\u001b[49m\u001b[43m \u001b[49m\u001b[43moperator\u001b[49m\u001b[38;5;241;43m.\u001b[39;49m\u001b[43msub\u001b[49m\u001b[43m)\u001b[49m\n",
      "File \u001b[1;32m~\\Desktop\\DFS\\WebAnalysis\\.WebAnalysisEnv\\lib\\site-packages\\pandas\\core\\series.py:5526\u001b[0m, in \u001b[0;36mSeries._arith_method\u001b[1;34m(self, other, op)\u001b[0m\n\u001b[0;32m   5523\u001b[0m rvalues \u001b[38;5;241m=\u001b[39m ensure_wrapped_if_datetimelike(rvalues)\n\u001b[0;32m   5525\u001b[0m \u001b[38;5;28;01mwith\u001b[39;00m np\u001b[38;5;241m.\u001b[39merrstate(\u001b[38;5;28mall\u001b[39m\u001b[38;5;241m=\u001b[39m\u001b[38;5;124m\"\u001b[39m\u001b[38;5;124mignore\u001b[39m\u001b[38;5;124m\"\u001b[39m):\n\u001b[1;32m-> 5526\u001b[0m     result \u001b[38;5;241m=\u001b[39m \u001b[43mops\u001b[49m\u001b[38;5;241;43m.\u001b[39;49m\u001b[43marithmetic_op\u001b[49m\u001b[43m(\u001b[49m\u001b[43mlvalues\u001b[49m\u001b[43m,\u001b[49m\u001b[43m \u001b[49m\u001b[43mrvalues\u001b[49m\u001b[43m,\u001b[49m\u001b[43m \u001b[49m\u001b[43mop\u001b[49m\u001b[43m)\u001b[49m\n\u001b[0;32m   5528\u001b[0m \u001b[38;5;28;01mreturn\u001b[39;00m \u001b[38;5;28mself\u001b[39m\u001b[38;5;241m.\u001b[39m_construct_result(result, name\u001b[38;5;241m=\u001b[39mres_name)\n",
      "File \u001b[1;32m~\\Desktop\\DFS\\WebAnalysis\\.WebAnalysisEnv\\lib\\site-packages\\pandas\\core\\ops\\array_ops.py:224\u001b[0m, in \u001b[0;36marithmetic_op\u001b[1;34m(left, right, op)\u001b[0m\n\u001b[0;32m    219\u001b[0m \u001b[38;5;28;01melse\u001b[39;00m:\n\u001b[0;32m    220\u001b[0m     \u001b[38;5;66;03m# TODO we should handle EAs consistently and move this check before the if/else\u001b[39;00m\n\u001b[0;32m    221\u001b[0m     \u001b[38;5;66;03m# (https://github.com/pandas-dev/pandas/issues/41165)\u001b[39;00m\n\u001b[0;32m    222\u001b[0m     _bool_arith_check(op, left, right)\n\u001b[1;32m--> 224\u001b[0m     res_values \u001b[38;5;241m=\u001b[39m \u001b[43m_na_arithmetic_op\u001b[49m\u001b[43m(\u001b[49m\u001b[43mleft\u001b[49m\u001b[43m,\u001b[49m\u001b[43m \u001b[49m\u001b[43mright\u001b[49m\u001b[43m,\u001b[49m\u001b[43m \u001b[49m\u001b[43mop\u001b[49m\u001b[43m)\u001b[49m\n\u001b[0;32m    226\u001b[0m \u001b[38;5;28;01mreturn\u001b[39;00m res_values\n",
      "File \u001b[1;32m~\\Desktop\\DFS\\WebAnalysis\\.WebAnalysisEnv\\lib\\site-packages\\pandas\\core\\ops\\array_ops.py:173\u001b[0m, in \u001b[0;36m_na_arithmetic_op\u001b[1;34m(left, right, op, is_cmp)\u001b[0m\n\u001b[0;32m    167\u001b[0m \u001b[38;5;28;01mexcept\u001b[39;00m \u001b[38;5;167;01mTypeError\u001b[39;00m:\n\u001b[0;32m    168\u001b[0m     \u001b[38;5;28;01mif\u001b[39;00m is_object_dtype(left) \u001b[38;5;129;01mor\u001b[39;00m is_object_dtype(right) \u001b[38;5;129;01mand\u001b[39;00m \u001b[38;5;129;01mnot\u001b[39;00m is_cmp:\n\u001b[0;32m    169\u001b[0m         \u001b[38;5;66;03m# For object dtype, fallback to a masked operation (only operating\u001b[39;00m\n\u001b[0;32m    170\u001b[0m         \u001b[38;5;66;03m#  on the non-missing values)\u001b[39;00m\n\u001b[0;32m    171\u001b[0m         \u001b[38;5;66;03m# Don't do this for comparisons, as that will handle complex numbers\u001b[39;00m\n\u001b[0;32m    172\u001b[0m         \u001b[38;5;66;03m#  incorrectly, see GH#32047\u001b[39;00m\n\u001b[1;32m--> 173\u001b[0m         result \u001b[38;5;241m=\u001b[39m \u001b[43m_masked_arith_op\u001b[49m\u001b[43m(\u001b[49m\u001b[43mleft\u001b[49m\u001b[43m,\u001b[49m\u001b[43m \u001b[49m\u001b[43mright\u001b[49m\u001b[43m,\u001b[49m\u001b[43m \u001b[49m\u001b[43mop\u001b[49m\u001b[43m)\u001b[49m\n\u001b[0;32m    174\u001b[0m     \u001b[38;5;28;01melse\u001b[39;00m:\n\u001b[0;32m    175\u001b[0m         \u001b[38;5;28;01mraise\u001b[39;00m\n",
      "File \u001b[1;32m~\\Desktop\\DFS\\WebAnalysis\\.WebAnalysisEnv\\lib\\site-packages\\pandas\\core\\ops\\array_ops.py:131\u001b[0m, in \u001b[0;36m_masked_arith_op\u001b[1;34m(x, y, op)\u001b[0m\n\u001b[0;32m    128\u001b[0m         mask \u001b[38;5;241m=\u001b[39m np\u001b[38;5;241m.\u001b[39mwhere(y \u001b[38;5;241m==\u001b[39m \u001b[38;5;241m1\u001b[39m, \u001b[38;5;28;01mFalse\u001b[39;00m, mask)\n\u001b[0;32m    130\u001b[0m     \u001b[38;5;28;01mif\u001b[39;00m mask\u001b[38;5;241m.\u001b[39many():\n\u001b[1;32m--> 131\u001b[0m         result[mask] \u001b[38;5;241m=\u001b[39m \u001b[43mop\u001b[49m\u001b[43m(\u001b[49m\u001b[43mxrav\u001b[49m\u001b[43m[\u001b[49m\u001b[43mmask\u001b[49m\u001b[43m]\u001b[49m\u001b[43m,\u001b[49m\u001b[43m \u001b[49m\u001b[43my\u001b[49m\u001b[43m)\u001b[49m\n\u001b[0;32m    133\u001b[0m np\u001b[38;5;241m.\u001b[39mputmask(result, \u001b[38;5;241m~\u001b[39mmask, np\u001b[38;5;241m.\u001b[39mnan)\n\u001b[0;32m    134\u001b[0m result \u001b[38;5;241m=\u001b[39m result\u001b[38;5;241m.\u001b[39mreshape(x\u001b[38;5;241m.\u001b[39mshape)  \u001b[38;5;66;03m# 2D compat\u001b[39;00m\n",
      "\u001b[1;31mTypeError\u001b[0m: unsupported operand type(s) for -: 'str' and 'int'"
     ]
    }
   ],
   "source": [
    "# kMeanクラスタリング2\n",
    "import numpy as np\n",
    "import pandas as pd\n",
    "import matplotlib.pyplot as plt\n",
    "from sklearn.preprocessing import scale\n",
    "from sklearn.cluster import KMeans\n",
    "\n",
    "#モデルの作成 \n",
    "cluster_num = 6\n",
    "model = KMeans(n_clusters=cluster_num)# random_state=1\n",
    "\n",
    "#全主成分を使ってKmean\n",
    "df = Target\n",
    "df_scale = scale(df)\n",
    "\n",
    "#データを正規化し、fit関数により訓練を実施\n",
    "model = model.fit(df_scale)\n",
    "\n",
    "df_model = pd.DataFrame(model.labels_)\n",
    "df[\"k_value\"] = df_model\n",
    "\n",
    "# 3D graph描画用次元圧縮\n",
    "from sklearn.decomposition import PCA\n",
    "pca = PCA(n_components=3)\n",
    "arr_pca = pca.fit_transform(df_scale)\n",
    "arr_pca\n",
    "\n",
    "# 可視化 3次元\n",
    "df_pca = pd.DataFrame(arr_pca,columns = [\"pca_1\",\"pca_2\", \"pca_3\"])\n",
    "from matplotlib import pyplot as plt\n",
    "import numpy as np\n",
    "from mpl_toolkits.mplot3d.axes3d import Axes3D\n",
    "color_value = df[\"k_value\"]\n",
    "fig = plt.figure()\n",
    "ax = Axes3D(fig)\n",
    "ax.view_init(30, 30)  \n",
    "cm = plt.cm.get_cmap('RdYlBu')\n",
    "mappable = ax.scatter(df_pca[\"pca_1\"].to_numpy(), df_pca[\"pca_2\"].to_numpy(), df_pca[\"pca_3\"].to_numpy(), c=color_value, cmap=cm)\n",
    "fig.colorbar(mappable, ax=ax)\n",
    "plt.figure(figsize=(16,12))\n",
    "plt.show()\n",
    "\n",
    "#Cluster内の要素の平均と標準偏差\n",
    "minfo = pd.DataFrame()\n",
    "for i in range(cluster_num):\n",
    "    minfo['cluster' + str(i) + ':' + str(len(df[df[\"k_value\"]==i]))] = df[df['k_value'] == i].mean()\n",
    "sinfo = pd.DataFrame()\n",
    "for i in range(cluster_num):\n",
    "    sinfo['cluster' + str(i) + ':' + str(len(df[df[\"k_value\"]==i]))] = df[df['k_value'] == i].std()\n",
    "\n",
    "print(minfo)\n",
    "print(sinfo)\n",
    "print(df)\n",
    "\n",
    "import matplotlib.pyplot as plt\n",
    "labels = range(len(df.columns)) #range(340) #df.columns #['C1', 'C2', 'C3', 'C4', 'C5']\n",
    "width = 0.35       # the width of the bars: can also be len(x) sequence\n",
    "\n",
    "df_scaleDF = pd.DataFrame(df_scale.T, df.columns[0:len(df.columns)]-1).T\n",
    "df_scaleDF[\"k_value\"] = df_model\n",
    "\n",
    "minfo_scale = pd.DataFrame()\n",
    "for i in range(cluster_num):\n",
    "    minfo_scale['cluster' + str(i) + ':' + str(len(df[df[\"k_value\"]==i]))] = df_scaleDF[df_scaleDF['k_value'] == i].mean()\n",
    "sinfo_scale = pd.DataFrame()\n",
    "for i in range(cluster_num):\n",
    "    sinfo_scale['cluster' + str(i) + ':' + str(len(df[df[\"k_value\"]==i]))] = df_scaleDF[df_scaleDF['k_value'] == i].std()\n",
    "\n",
    "# print(minfo_scale)\n",
    "# print(sinfo_scale)\n",
    "\n",
    "fig, ax = plt.subplots()\n",
    "# for i in range(cluster_num):\n",
    "#   means = minfo['cluster' + str(i) + ':' + str(len(df[df[\"k_value\"]==i]))]\n",
    "#   std = sinfo['cluster' + str(i) + ':' + str(len(df[df[\"k_value\"]==i]))]\n",
    "#   ax.bar(labels, means, width, yerr=std, label=i)\n",
    "for i in range(cluster_num):\n",
    "  means = minfo_scale['cluster' + str(i) + ':' + str(len(df[df[\"k_value\"]==i]))][0:len(df.columns)]\n",
    "  std = sinfo_scale['cluster' + str(i) + ':' + str(len(df[df[\"k_value\"]==i]))][0:len(df.columns)]\n",
    "  ax.bar(labels, means, width, yerr=std, label=i)\n",
    "ax.set_ylabel('Scores')\n",
    "ax.set_title('Showing the dominant ratio of each category')\n",
    "ax.legend()\n",
    "\n",
    "plt.figure(figsize=(4,3))\n",
    "plt.show()"
   ]
  },
  {
   "cell_type": "code",
   "execution_count": 136,
   "id": "0146debf",
   "metadata": {
    "ExecuteTime": {
     "end_time": "2022-05-01T10:11:27.766151Z",
     "start_time": "2022-05-01T10:11:27.398921Z"
    }
   },
   "outputs": [
    {
     "name": "stderr",
     "output_type": "stream",
     "text": [
      "C:\\Users\\fumi9\\Desktop\\DFS\\WebAnalysis\\.WebAnalysisEnv\\lib\\site-packages\\sklearn\\linear_model\\_coordinate_descent.py:647: ConvergenceWarning: Objective did not converge. You might want to increase the number of iterations, check the scale of the features or consider increasing regularisation. Duality gap: 3.444e+11, tolerance: 9.208e+08\n",
      "  model = cd_fast.enet_coordinate_descent(\n"
     ]
    }
   ],
   "source": [
    "### ----------------- 重回帰分析2 ------------------ ###\n",
    "import sklearn\n",
    "from sklearn.linear_model import LinearRegression\n",
    "from sklearn.linear_model import Lasso\n",
    "\n",
    "df = Target\n",
    "\n",
    "# dum_dataset = short_dataset.copy()\n",
    "# dum_dataset[Stock] = dum_dataset[Stock].shift(-1) # 1(-1)日後の株価を、今日までの他のストックの価格を使ってを予測\n",
    "# dum_dataset.dropna(inplace=True)\n",
    "\n",
    "lreg = Lasso()#LinearRegression()\n",
    "x_multi = df.drop(\"SalePrice\", axis=1)\n",
    "x_multi.shape\n",
    "y_target = df[\"SalePrice\"]\n",
    "lreg.fit(x_multi, y_target)\n",
    "# print(lreg.intercept_)\n",
    "# print(len(lreg.coef_))\n",
    "\n",
    "#Linear regression\n",
    "coeff_df = pd.DataFrame(df.columns)\n",
    "coeff_df.columns = ['Features']\n",
    "coeff_df['Coefficient Estimate'] = pd.Series(lreg.coef_)\n",
    "coeff_df.to_csv('C:/Users/fumi9/Desktop/DFS/Colab Notebooks/Kaggle/HousePrice/coeff.csv')\n",
    "\n",
    "\n",
    "# df[coeff_df[coeff_df[\"Coefficient Estimate\"]!=0]]\n",
    "\n",
    "# path = 'C:/Users/fumi9/Desktop/DFS/Colab Notebooks/Kaggle/HousePrice'\n",
    "# Dataset = pd.read_csv(os.getcwd() + \"/train.csv\", encoding='CP932')\n",
    "    \n",
    "# #Training\n",
    "# X_train, X_test, Y_train, Y_test = sklearn.model_selection.train_test_split(x_multi, y_target)\n",
    "# print(X_train.shape, X_test.shape, Y_train.shape, Y_test.shape )\n",
    "# lreg = Lasso()#LinearRegression()\n",
    "# lreg.fit(X_train, Y_train)\n",
    "\n",
    "# pred_train = lreg.predict(X_train)\n",
    "# pred_test = lreg.predict(X_test)\n",
    "# print(np.mean((Y_train - pred_train) ** 2))\n",
    "# print(np.mean((Y_test - pred_test) ** 2))"
   ]
  },
  {
   "cell_type": "code",
   "execution_count": null,
   "id": "be7ff40e",
   "metadata": {},
   "outputs": [],
   "source": []
  },
  {
   "cell_type": "code",
   "execution_count": null,
   "id": "aaa38608",
   "metadata": {},
   "outputs": [],
   "source": []
  },
  {
   "cell_type": "code",
   "execution_count": 19,
   "id": "31ab863f",
   "metadata": {
    "ExecuteTime": {
     "end_time": "2022-04-29T07:29:45.470237Z",
     "start_time": "2022-04-29T07:29:45.386852Z"
    }
   },
   "outputs": [
    {
     "name": "stderr",
     "output_type": "stream",
     "text": [
      "'pip' は、内部コマンドまたは外部コマンド、\n",
      "操作可能なプログラムまたはバッチ ファイルとして認識されていません。\n"
     ]
    }
   ],
   "source": [
    "!pip install factor-analyzer"
   ]
  },
  {
   "cell_type": "code",
   "execution_count": 21,
   "id": "2ff65ff1",
   "metadata": {
    "ExecuteTime": {
     "end_time": "2022-04-29T07:30:35.250140Z",
     "start_time": "2022-04-29T07:30:34.809627Z"
    }
   },
   "outputs": [
    {
     "data": {
      "text/html": [
       "<style type=\"text/css\">\n",
       "#T_e77ac_row0_col0, #T_e77ac_row11_col1, #T_e77ac_row12_col2 {\n",
       "  background-color: #ff0000;\n",
       "  color: #f1f1f1;\n",
       "}\n",
       "#T_e77ac_row0_col1, #T_e77ac_row6_col1 {\n",
       "  background-color: #f79897;\n",
       "  color: #000000;\n",
       "}\n",
       "#T_e77ac_row0_col2 {\n",
       "  background-color: #f5c7c7;\n",
       "  color: #000000;\n",
       "}\n",
       "#T_e77ac_row1_col0, #T_e77ac_row2_col0 {\n",
       "  background-color: #fe0d0d;\n",
       "  color: #f1f1f1;\n",
       "}\n",
       "#T_e77ac_row1_col1 {\n",
       "  background-color: #f88383;\n",
       "  color: #f1f1f1;\n",
       "}\n",
       "#T_e77ac_row1_col2, #T_e77ac_row10_col1, #T_e77ac_row16_col0 {\n",
       "  background-color: #f3f0f0;\n",
       "  color: #000000;\n",
       "}\n",
       "#T_e77ac_row2_col1 {\n",
       "  background-color: #fa6c6c;\n",
       "  color: #f1f1f1;\n",
       "}\n",
       "#T_e77ac_row2_col2 {\n",
       "  background-color: #f5c2c2;\n",
       "  color: #000000;\n",
       "}\n",
       "#T_e77ac_row3_col0 {\n",
       "  background-color: #fe1818;\n",
       "  color: #f1f1f1;\n",
       "}\n",
       "#T_e77ac_row3_col1 {\n",
       "  background-color: #f5c3c3;\n",
       "  color: #000000;\n",
       "}\n",
       "#T_e77ac_row3_col2 {\n",
       "  background-color: #f5c0c0;\n",
       "  color: #000000;\n",
       "}\n",
       "#T_e77ac_row4_col0 {\n",
       "  background-color: #fd2a2a;\n",
       "  color: #f1f1f1;\n",
       "}\n",
       "#T_e77ac_row4_col1, #T_e77ac_row15_col0 {\n",
       "  background-color: #f97a7a;\n",
       "  color: #f1f1f1;\n",
       "}\n",
       "#T_e77ac_row4_col2 {\n",
       "  background-color: #f4dbdb;\n",
       "  color: #000000;\n",
       "}\n",
       "#T_e77ac_row5_col0 {\n",
       "  background-color: #fc3f3f;\n",
       "  color: #f1f1f1;\n",
       "}\n",
       "#T_e77ac_row5_col1 {\n",
       "  background-color: #fa6969;\n",
       "  color: #f1f1f1;\n",
       "}\n",
       "#T_e77ac_row5_col2 {\n",
       "  background-color: #f6adad;\n",
       "  color: #000000;\n",
       "}\n",
       "#T_e77ac_row6_col0 {\n",
       "  background-color: #fc4343;\n",
       "  color: #f1f1f1;\n",
       "}\n",
       "#T_e77ac_row6_col2 {\n",
       "  background-color: #f7a2a2;\n",
       "  color: #000000;\n",
       "}\n",
       "#T_e77ac_row7_col0 {\n",
       "  background-color: #fb4848;\n",
       "  color: #f1f1f1;\n",
       "}\n",
       "#T_e77ac_row7_col1 {\n",
       "  background-color: #f88484;\n",
       "  color: #f1f1f1;\n",
       "}\n",
       "#T_e77ac_row7_col2 {\n",
       "  background-color: #f97b7b;\n",
       "  color: #f1f1f1;\n",
       "}\n",
       "#T_e77ac_row8_col0 {\n",
       "  background-color: #fb5757;\n",
       "  color: #f1f1f1;\n",
       "}\n",
       "#T_e77ac_row8_col1 {\n",
       "  background-color: #f89494;\n",
       "  color: #000000;\n",
       "}\n",
       "#T_e77ac_row8_col2, #T_e77ac_row12_col0 {\n",
       "  background-color: #f88989;\n",
       "  color: #f1f1f1;\n",
       "}\n",
       "#T_e77ac_row9_col0, #T_e77ac_row11_col0 {\n",
       "  background-color: #f97878;\n",
       "  color: #f1f1f1;\n",
       "}\n",
       "#T_e77ac_row9_col1 {\n",
       "  background-color: #f7a1a1;\n",
       "  color: #000000;\n",
       "}\n",
       "#T_e77ac_row9_col2 {\n",
       "  background-color: #f6b4b4;\n",
       "  color: #000000;\n",
       "}\n",
       "#T_e77ac_row10_col0 {\n",
       "  background-color: #f88585;\n",
       "  color: #f1f1f1;\n",
       "}\n",
       "#T_e77ac_row10_col2 {\n",
       "  background-color: #f79898;\n",
       "  color: #000000;\n",
       "}\n",
       "#T_e77ac_row11_col2 {\n",
       "  background-color: #f4e1e1;\n",
       "  color: #000000;\n",
       "}\n",
       "#T_e77ac_row12_col1, #T_e77ac_row16_col1 {\n",
       "  background-color: #f88a8a;\n",
       "  color: #f1f1f1;\n",
       "}\n",
       "#T_e77ac_row13_col0 {\n",
       "  background-color: #f4d0d0;\n",
       "  color: #000000;\n",
       "}\n",
       "#T_e77ac_row13_col1 {\n",
       "  background-color: #f6afaf;\n",
       "  color: #000000;\n",
       "}\n",
       "#T_e77ac_row13_col2 {\n",
       "  background-color: #fe0c0c;\n",
       "  color: #f1f1f1;\n",
       "}\n",
       "#T_e77ac_row14_col0, #T_e77ac_row17_col0 {\n",
       "  background-color: #f7a0a0;\n",
       "  color: #000000;\n",
       "}\n",
       "#T_e77ac_row14_col1 {\n",
       "  background-color: #fb4747;\n",
       "  color: #f1f1f1;\n",
       "}\n",
       "#T_e77ac_row14_col2 {\n",
       "  background-color: #fd2424;\n",
       "  color: #f1f1f1;\n",
       "}\n",
       "#T_e77ac_row15_col1 {\n",
       "  background-color: #fa5c5c;\n",
       "  color: #f1f1f1;\n",
       "}\n",
       "#T_e77ac_row15_col2 {\n",
       "  background-color: #fc3e3e;\n",
       "  color: #f1f1f1;\n",
       "}\n",
       "#T_e77ac_row16_col2 {\n",
       "  background-color: #fb5252;\n",
       "  color: #f1f1f1;\n",
       "}\n",
       "#T_e77ac_row17_col1 {\n",
       "  background-color: #f79f9f;\n",
       "  color: #000000;\n",
       "}\n",
       "#T_e77ac_row17_col2 {\n",
       "  background-color: #fa6464;\n",
       "  color: #f1f1f1;\n",
       "}\n",
       "</style>\n",
       "<table id=\"T_e77ac_\">\n",
       "  <thead>\n",
       "    <tr>\n",
       "      <th class=\"blank level0\" >&nbsp;</th>\n",
       "      <th class=\"col_heading level0 col0\" >因子1</th>\n",
       "      <th class=\"col_heading level0 col1\" >因子2</th>\n",
       "      <th class=\"col_heading level0 col2\" >因子3</th>\n",
       "    </tr>\n",
       "  </thead>\n",
       "  <tbody>\n",
       "    <tr>\n",
       "      <th id=\"T_e77ac_level0_row0\" class=\"row_heading level0 row0\" >車やバイクなど乗り物の運転がうまくなりたい</th>\n",
       "      <td id=\"T_e77ac_row0_col0\" class=\"data row0 col0\" >0.878141</td>\n",
       "      <td id=\"T_e77ac_row0_col1\" class=\"data row0 col1\" >-0.051996</td>\n",
       "      <td id=\"T_e77ac_row0_col2\" class=\"data row0 col2\" >-0.058964</td>\n",
       "    </tr>\n",
       "    <tr>\n",
       "      <th id=\"T_e77ac_level0_row1\" class=\"row_heading level0 row1\" >車やバイクを運転するときは周りよりスピードを出したい</th>\n",
       "      <td id=\"T_e77ac_row1_col0\" class=\"data row1 col0\" >0.815633</td>\n",
       "      <td id=\"T_e77ac_row1_col1\" class=\"data row1 col1\" >0.069686</td>\n",
       "      <td id=\"T_e77ac_row1_col2\" class=\"data row1 col2\" >-0.202206</td>\n",
       "    </tr>\n",
       "    <tr>\n",
       "      <th id=\"T_e77ac_level0_row2\" class=\"row_heading level0 row2\" >ガレージの中で、自分の乗り物(車、モーターバイク、自転車、etc）を磨いたり、必要なメンテナンスをするのは、楽しみの一つだ</th>\n",
       "      <td id=\"T_e77ac_row2_col0\" class=\"data row2 col0\" >0.814744</td>\n",
       "      <td id=\"T_e77ac_row2_col1\" class=\"data row2 col1\" >0.204988</td>\n",
       "      <td id=\"T_e77ac_row2_col2\" class=\"data row2 col2\" >-0.042397</td>\n",
       "    </tr>\n",
       "    <tr>\n",
       "      <th id=\"T_e77ac_level0_row3\" class=\"row_heading level0 row3\" >移動手段や乗り物は異性や他人の目を気にして選ぶ</th>\n",
       "      <td id=\"T_e77ac_row3_col0\" class=\"data row3 col0\" >0.763373</td>\n",
       "      <td id=\"T_e77ac_row3_col1\" class=\"data row3 col1\" >-0.305086</td>\n",
       "      <td id=\"T_e77ac_row3_col2\" class=\"data row3 col2\" >-0.036795</td>\n",
       "    </tr>\n",
       "    <tr>\n",
       "      <th id=\"T_e77ac_level0_row4\" class=\"row_heading level0 row4\" >車やバイクなどの移動手段や乗り物は趣味として所有したい</th>\n",
       "      <td id=\"T_e77ac_row4_col0\" class=\"data row4 col0\" >0.676633</td>\n",
       "      <td id=\"T_e77ac_row4_col1\" class=\"data row4 col1\" >0.122999</td>\n",
       "      <td id=\"T_e77ac_row4_col2\" class=\"data row4 col2\" >-0.128863</td>\n",
       "    </tr>\n",
       "    <tr>\n",
       "      <th id=\"T_e77ac_level0_row5\" class=\"row_heading level0 row5\" >移動手段や乗り物も自己表現の道具だと思う</th>\n",
       "      <td id=\"T_e77ac_row5_col0\" class=\"data row5 col0\" >0.580929</td>\n",
       "      <td id=\"T_e77ac_row5_col1\" class=\"data row5 col1\" >0.223345</td>\n",
       "      <td id=\"T_e77ac_row5_col2\" class=\"data row5 col2\" >0.029502</td>\n",
       "    </tr>\n",
       "    <tr>\n",
       "      <th id=\"T_e77ac_level0_row6\" class=\"row_heading level0 row6\" >移動では風や自然を感じたい</th>\n",
       "      <td id=\"T_e77ac_row6_col0\" class=\"data row6 col0\" >0.559844</td>\n",
       "      <td id=\"T_e77ac_row6_col1\" class=\"data row6 col1\" >-0.051774</td>\n",
       "      <td id=\"T_e77ac_row6_col2\" class=\"data row6 col2\" >0.065813</td>\n",
       "    </tr>\n",
       "    <tr>\n",
       "      <th id=\"T_e77ac_level0_row7\" class=\"row_heading level0 row7\" >オフロードなど、色んな地形や状況に適用できる乗り物が良い</th>\n",
       "      <td id=\"T_e77ac_row7_col0\" class=\"data row7 col0\" >0.542063</td>\n",
       "      <td id=\"T_e77ac_row7_col1\" class=\"data row7 col1\" >0.068872</td>\n",
       "      <td id=\"T_e77ac_row7_col2\" class=\"data row7 col2\" >0.200250</td>\n",
       "    </tr>\n",
       "    <tr>\n",
       "      <th id=\"T_e77ac_level0_row8\" class=\"row_heading level0 row8\" >家族や友人みんなで乗れる乗り物で移動したい</th>\n",
       "      <td id=\"T_e77ac_row8_col0\" class=\"data row8 col0\" >0.467313</td>\n",
       "      <td id=\"T_e77ac_row8_col1\" class=\"data row8 col1\" >-0.029583</td>\n",
       "      <td id=\"T_e77ac_row8_col2\" class=\"data row8 col2\" >0.152593</td>\n",
       "    </tr>\n",
       "    <tr>\n",
       "      <th id=\"T_e77ac_level0_row9\" class=\"row_heading level0 row9\" >移動中は一人の時間を楽しみたい</th>\n",
       "      <td id=\"T_e77ac_row9_col0\" class=\"data row9 col0\" >0.316006</td>\n",
       "      <td id=\"T_e77ac_row9_col1\" class=\"data row9 col1\" >-0.105769</td>\n",
       "      <td id=\"T_e77ac_row9_col2\" class=\"data row9 col2\" >0.007038</td>\n",
       "    </tr>\n",
       "    <tr>\n",
       "      <th id=\"T_e77ac_level0_row10\" class=\"row_heading level0 row10\" >できるだけ公共交通機関（バス、地下鉄、電車、など）を利用したいと思う</th>\n",
       "      <td id=\"T_e77ac_row10_col0\" class=\"data row10 col0\" >0.251812</td>\n",
       "      <td id=\"T_e77ac_row10_col1\" class=\"data row10 col1\" >-0.572884</td>\n",
       "      <td id=\"T_e77ac_row10_col2\" class=\"data row10 col2\" >0.099770</td>\n",
       "    </tr>\n",
       "    <tr>\n",
       "      <th id=\"T_e77ac_level0_row11\" class=\"row_heading level0 row11\" >移動の際は乗り物の運転を楽しみたい</th>\n",
       "      <td id=\"T_e77ac_row11_col0\" class=\"data row11 col0\" >0.314579</td>\n",
       "      <td id=\"T_e77ac_row11_col1\" class=\"data row11 col1\" >0.844268</td>\n",
       "      <td id=\"T_e77ac_row11_col2\" class=\"data row11 col2\" >-0.149510</td>\n",
       "    </tr>\n",
       "    <tr>\n",
       "      <th id=\"T_e77ac_level0_row12\" class=\"row_heading level0 row12\" >安く早く移動できればそれで良い</th>\n",
       "      <td id=\"T_e77ac_row12_col0\" class=\"data row12 col0\" >0.228831</td>\n",
       "      <td id=\"T_e77ac_row12_col1\" class=\"data row12 col1\" >0.028906</td>\n",
       "      <td id=\"T_e77ac_row12_col2\" class=\"data row12 col2\" >0.624001</td>\n",
       "    </tr>\n",
       "    <tr>\n",
       "      <th id=\"T_e77ac_level0_row13\" class=\"row_heading level0 row13\" >移動は必要最低限で十分だ</th>\n",
       "      <td id=\"T_e77ac_row13_col0\" class=\"data row13 col0\" >-0.101027</td>\n",
       "      <td id=\"T_e77ac_row13_col1\" class=\"data row13 col1\" >-0.189595</td>\n",
       "      <td id=\"T_e77ac_row13_col2\" class=\"data row13 col2\" >0.579082</td>\n",
       "    </tr>\n",
       "    <tr>\n",
       "      <th id=\"T_e77ac_level0_row14\" class=\"row_heading level0 row14\" >取り回しの良い、動きが軽快で、便利な乗り物を選びたい</th>\n",
       "      <td id=\"T_e77ac_row14_col0\" class=\"data row14 col0\" >0.126289</td>\n",
       "      <td id=\"T_e77ac_row14_col1\" class=\"data row14 col1\" >0.426143</td>\n",
       "      <td id=\"T_e77ac_row14_col2\" class=\"data row14 col2\" >0.500519</td>\n",
       "    </tr>\n",
       "    <tr>\n",
       "      <th id=\"T_e77ac_level0_row15\" class=\"row_heading level0 row15\" >新しい乗り物に興味がある</th>\n",
       "      <td id=\"T_e77ac_row15_col0\" class=\"data row15 col0\" >0.301621</td>\n",
       "      <td id=\"T_e77ac_row15_col1\" class=\"data row15 col1\" >0.298148</td>\n",
       "      <td id=\"T_e77ac_row15_col2\" class=\"data row15 col2\" >0.410095</td>\n",
       "    </tr>\n",
       "    <tr>\n",
       "      <th id=\"T_e77ac_level0_row16\" class=\"row_heading level0 row16\" >バイクの運転は危険なので出来るだけ避けたい</th>\n",
       "      <td id=\"T_e77ac_row16_col0\" class=\"data row16 col0\" >-0.253876</td>\n",
       "      <td id=\"T_e77ac_row16_col1\" class=\"data row16 col1\" >0.028220</td>\n",
       "      <td id=\"T_e77ac_row16_col2\" class=\"data row16 col2\" >0.342769</td>\n",
       "    </tr>\n",
       "    <tr>\n",
       "      <th id=\"T_e77ac_level0_row17\" class=\"row_heading level0 row17\" >出来るだけ環境に良い移動手段を選びたい</th>\n",
       "      <td id=\"T_e77ac_row17_col0\" class=\"data row17 col0\" >0.124999</td>\n",
       "      <td id=\"T_e77ac_row17_col1\" class=\"data row17 col1\" >-0.096476</td>\n",
       "      <td id=\"T_e77ac_row17_col2\" class=\"data row17 col2\" >0.280043</td>\n",
       "    </tr>\n",
       "  </tbody>\n",
       "</table>\n"
      ],
      "text/plain": [
       "<pandas.io.formats.style.Styler at 0x1b762196560>"
      ]
     },
     "execution_count": 21,
     "metadata": {},
     "output_type": "execute_result"
    }
   ],
   "source": [
    "# 因数分析\n",
    "from factor_analyzer import FactorAnalyzer\n",
    "n = 3 #スクリ―プロットより決定\n",
    "\n",
    "fa = FactorAnalyzer(n_factors=n, rotation='promax', impute='drop') #プロマックス回転\n",
    "fa.fit(z)\n",
    "# print(fa.loadings_)\n",
    "\n",
    "df_result = pd.DataFrame(fa.loadings_, \n",
    "           index = Target.columns,\n",
    "            columns=[\"因子{}\".format(x + 1) for x in range(n)])\n",
    "\n",
    "# 因子に高い負荷量を持つ項目は最低３つないと因子としての構造が安定しないことが知られている\n",
    "# 各因子ごとのDataframeに分けてsortした後にSortedResultにappendしている\n",
    "SortedResult = pd.DataFrame(columns=[\"因子{}\".format(x + 1) for x in range(n)])\n",
    "for x in range(n):\n",
    "  SortedResult = SortedResult.append(df_result[pd.DataFrame(df_result.idxmax(axis=1))[0] == \"因子{}\".format(x+1)].sort_values(by=\"因子{}\".format(x+1), ascending=False))\n",
    "SortedResult\n",
    "\n",
    "import seaborn as sns\n",
    "cm = sns.light_palette(\"red\", as_cmap=True)\n",
    "SortedResult.style.background_gradient(cmap=cm)\n",
    "\n",
    "# df_result_sort.to_csv()"
   ]
  },
  {
   "cell_type": "code",
   "execution_count": 22,
   "id": "74b22105",
   "metadata": {
    "ExecuteTime": {
     "end_time": "2022-04-29T07:30:58.801120Z",
     "start_time": "2022-04-29T07:30:58.782116Z"
    }
   },
   "outputs": [],
   "source": [
    "#--因子負荷量0.5以上に着目して人が命名する--\n",
    "#因子１：うまくなりたい・目を引く・趣味・自己表現\n",
    "#因子２：運転を楽しみたい\n",
    "#因子３：安い・必要最低限・乗りやすい・便利\n",
    "\n",
    "# FactorNames = [ #Over €70,000\n",
    "#     \"因子１：新規探索系・追及志向\",\n",
    "#     \"因子２：消費旺盛・運動自信・楽観的\",\n",
    "#     \"因子３：環境志向・仲間意識\",\n",
    "#     \"因子４：現状満足・独自路線\",\n",
    "#     \"因子５：興味消費・孤独志向\",\n",
    "#     \"因子６：アウトドア・コスパ\"\n",
    "# ]\n",
    "# FactorNames = [ #Over €100,000\n",
    "#     \"因子１：仕事より家庭・遊びはストレス解消・好奇心旺盛・自己成長\",\n",
    "#     \"因子２：消費旺盛・楽観的・一人好き・勝ちたい\",\n",
    "#     \"因子３：運動自身・スリル遊び・現状満足・\",\n",
    "#     \"因子４：周囲協調型・お得な買い物・助け合い\"\n",
    "# ]\n",
    "\n",
    "FactorNames = [ #移動スタイル\n",
    "    \"因子１：うまくなりたい・目を引く・趣味・自己表現\",\n",
    "    \"因子２：運転を楽しみたい\",\n",
    "    \"因子３：安い・必要最低限・乗りやすい・便利\",           \n",
    "]\n",
    "\n",
    "#因数得点で階層型分類せよ!!!: https://webtopi.biz/archives/984\n",
    "result_data=pd.concat([Dataset,pd.DataFrame(fa.transform(z), columns=FactorNames)],axis=1)\n",
    "\n",
    "# result_data.head()"
   ]
  },
  {
   "cell_type": "code",
   "execution_count": 23,
   "id": "dcf1bb30",
   "metadata": {
    "ExecuteTime": {
     "end_time": "2022-04-29T07:31:01.177313Z",
     "start_time": "2022-04-29T07:31:00.833168Z"
    }
   },
   "outputs": [
    {
     "data": {
      "image/png": "[encoded data removed]",
      "text/plain": [
       "<Figure size 720x504 with 1 Axes>"
      ]
     },
     "metadata": {
      "needs_background": "light"
     },
     "output_type": "display_data"
    }
   ],
   "source": [
    "## こっち！階層型クラスタリング!Kmeanは使わない!\n",
    "import numpy as np\n",
    "from sklearn.preprocessing import scale\n",
    "\n",
    "z = scale(Target)\n",
    "X = z\n",
    "\n",
    "from scipy.cluster.hierarchy import dendrogram, linkage, fcluster\n",
    "from matplotlib import pyplot as plt\n",
    "\n",
    "linked = linkage(X, method='ward')\n",
    "\n",
    "plt.figure(figsize=(10, 7))\n",
    "dendrogram(linked,\n",
    "            orientation='top',\n",
    "            distance_sort='descending',\n",
    "            show_leaf_counts=True)\n",
    "plt.show()\n",
    "\n",
    "#各クラスター100サンプル以上が目安"
   ]
  },
  {
   "cell_type": "code",
   "execution_count": 24,
   "id": "7d43cce4",
   "metadata": {
    "ExecuteTime": {
     "end_time": "2022-04-29T07:31:05.667730Z",
     "start_time": "2022-04-29T07:31:04.659857Z"
    }
   },
   "outputs": [
    {
     "name": "stderr",
     "output_type": "stream",
     "text": [
      "C:\\Users\\fumi9\\AppData\\Local\\Temp\\ipykernel_4816\\4054469114.py:25: MatplotlibDeprecationWarning: Axes3D(fig) adding itself to the figure is deprecated since 3.4. Pass the keyword argument auto_add_to_figure=False and use fig.add_axes(ax) to suppress this warning. The default value of auto_add_to_figure will change to False in mpl3.5 and True values will no longer work in 3.6.  This is consistent with other Axes classes.\n",
      "  ax = Axes3D(fig)\n"
     ]
    },
    {
     "data": {
      "image/png": "[encoded data removed]",
      "text/plain": [
       "<Figure size 432x288 with 2 Axes>"
      ]
     },
     "metadata": {
      "needs_background": "light"
     },
     "output_type": "display_data"
    },
    {
     "data": {
      "text/plain": [
       "<Figure size 1152x864 with 0 Axes>"
      ]
     },
     "metadata": {},
     "output_type": "display_data"
    },
    {
     "name": "stderr",
     "output_type": "stream",
     "text": [
      "C:\\Users\\fumi9\\Desktop\\DFS\\WebAnalysis\\.WebAnalysisEnv\\lib\\site-packages\\numpy\\core\\_methods.py:44: RuntimeWarning: invalid value encountered in reduce\n",
      "  return umr_minimum(a, axis, None, out, keepdims, initial, where)\n",
      "C:\\Users\\fumi9\\Desktop\\DFS\\WebAnalysis\\.WebAnalysisEnv\\lib\\site-packages\\numpy\\core\\_methods.py:40: RuntimeWarning: invalid value encountered in reduce\n",
      "  return umr_maximum(a, axis, None, out, keepdims, initial, where)\n"
     ]
    },
    {
     "data": {
      "image/png": "[encoded data removed]",
      "text/plain": [
       "<Figure size 432x288 with 1 Axes>"
      ]
     },
     "metadata": {
      "needs_background": "light"
     },
     "output_type": "display_data"
    },
    {
     "data": {
      "text/plain": [
       "<Figure size 288x216 with 0 Axes>"
      ]
     },
     "metadata": {},
     "output_type": "display_data"
    }
   ],
   "source": [
    "#分類 分類は因数得点から行う\n",
    "from sklearn.preprocessing import scale\n",
    "Target = result_data.filter(items=FactorNames, axis='columns') #因数得点をscaleする\n",
    "z = scale(Target)\n",
    "Cluster_num = 5 # クラスター数は上記の階層型クラスタリング図で決める\n",
    "F = fcluster(linked, t = Cluster_num, criterion = 'maxclust')\n",
    "\n",
    "df = Target.copy()\n",
    "df_scale = z\n",
    "df[\"f_value\"] = F-1 # fclusterは1以上の値なのでkmeanの0以上に変換\n",
    "\n",
    "# 3D graph描画用次元圧縮\n",
    "from sklearn.decomposition import PCA\n",
    "pca = PCA(n_components=3)\n",
    "arr_pca = pca.fit_transform(df_scale)\n",
    "arr_pca\n",
    "\n",
    "# 可視化 3次元\n",
    "df_pca = pd.DataFrame(arr_pca,columns = [\"pca_1\",\"pca_2\", \"pca_3\"])\n",
    "from matplotlib import pyplot as plt\n",
    "import numpy as np\n",
    "from mpl_toolkits.mplot3d.axes3d import Axes3D\n",
    "color_value = df[\"f_value\"]\n",
    "fig = plt.figure()\n",
    "ax = Axes3D(fig)\n",
    "ax.view_init(0, 90)  \n",
    "cm = plt.cm.get_cmap('RdYlBu')\n",
    "mappable = ax.scatter(df_pca[\"pca_1\"].to_numpy(), df_pca[\"pca_2\"].to_numpy(), df_pca[\"pca_3\"].to_numpy(), c=color_value, cmap=cm)\n",
    "fig.colorbar(mappable, ax=ax)\n",
    "plt.figure(figsize=(16,12))\n",
    "plt.show()\n",
    "\n",
    "\n",
    "minfo = pd.DataFrame()\n",
    "for i in range(Cluster_num):\n",
    "    minfo['cluster' + str(i) + ':' + str(len(df[df[\"f_value\"]==i]))] = df[df['f_value'] == i].mean()\n",
    "sinfo = pd.DataFrame()\n",
    "for i in range(Cluster_num):\n",
    "    sinfo['cluster' + str(i) + ':' + str(len(df[df[\"f_value\"]==i]))] = df[df['f_value'] == i].std()\n",
    "\n",
    "# print(minfo)\n",
    "# print(sinfo)\n",
    "# print(df)\n",
    "\n",
    "import matplotlib.pyplot as plt\n",
    "labels = range(len(df.columns)-1) #range(340) #df.columns #['C1', 'C2', 'C3', 'C4', 'C5']\n",
    "width = 0.35       # the width of the bars: can also be len(x) sequence\n",
    "\n",
    "df_scaleDF = pd.DataFrame(df_scale.T, df.columns[0:len(df.columns)-1]).T\n",
    "df_scaleDF[\"f_value\"] = df[\"f_value\"]\n",
    "\n",
    "minfo_scale = pd.DataFrame()\n",
    "for i in range(Cluster_num):\n",
    "    minfo_scale['cluster' + str(i) + ':' + str(len(df[df[\"f_value\"]==i]))] = df_scaleDF[df_scaleDF['f_value'] == i].mean()\n",
    "sinfo_scale = pd.DataFrame()\n",
    "for i in range(Cluster_num):\n",
    "    sinfo_scale['cluster' + str(i) + ':' + str(len(df[df[\"f_value\"]==i]))] = df_scaleDF[df_scaleDF['f_value'] == i].std()\n",
    "\n",
    "# print(minfo_scale)\n",
    "# print(sinfo_scale)\n",
    "\n",
    "# クラスターごとにどんな因子で構成されているかを見たい！！（逆に変更しないと）\n",
    "fig, ax = plt.subplots()\n",
    "for i in range(Cluster_num):\n",
    "  means = minfo_scale['cluster' + str(i) + ':' + str(len(df[df[\"f_value\"]==i]))]\n",
    "  std = sinfo_scale['cluster' + str(i) + ':' + str(len(df[df[\"f_value\"]==i]))]\n",
    "  ax.bar(labels, means.drop(\"f_value\"), width, yerr=std.drop(\"f_value\"), label=i)\n",
    "ax.set_ylabel('Scores')\n",
    "ax.set_title('Showing the dominant ratio of each category')\n",
    "ax.legend()\n",
    "\n",
    "plt.figure(figsize=(4,3))\n",
    "plt.show()"
   ]
  },
  {
   "cell_type": "code",
   "execution_count": null,
   "id": "d46cbcdd",
   "metadata": {},
   "outputs": [],
   "source": [
    "#csvファイル出力はなんか出力が変になるから.to_csv()で結果をコピペした方がいい！！\n",
    "result_data[\"f_value\"] = F-1\n",
    "# df_pca[\"f_value\"] = df[\"f_value\"]\n",
    "# df.to_csv('/content/drive/My Drive/Colab Notebooks/DataAnalysisForFrenchAnalysis/YFData/FrenchData/df.csv')\n",
    "# df_pca.to_csv('/content/drive/My Drive/Colab Notebooks/DataAnalysisForFrenchAnalysis/YFData/FrenchData/Df_pcaWithK_value.csv')\n",
    "# minfo.to_csv('/content/drive/My Drive/Colab Notebooks/DataAnalysisForFrenchAnalysis/YFData/FrenchData/minfo.csv')\n",
    "# sinfo.to_csv('/content/drive/My Drive/Colab Notebooks/DataAnalysisForFrenchAnalysis/YFData/FrenchData/sinfo.csv')\n",
    "# df.to_csv('/content/drive/My Drive/Colab Notebooks/DataAnalysisForFrenchAnalysis/YFData/FrenchData/df.csv')\n",
    "# minfo_scale.to_csv('/content/drive/My Drive/Colab Notebooks/DataAnalysisForFrenchAnalysis/YFData/FrenchData/minfo_scale.csv')\n",
    "# sinfo_scale.to_csv('/content/drive/My Drive/Colab Notebooks/DataAnalysisForFrenchAnalysis/YFData/FrenchData/sinfo_scale.csv')"
   ]
  },
  {
   "cell_type": "code",
   "execution_count": null,
   "id": "5a99459f",
   "metadata": {},
   "outputs": [],
   "source": [
    "minfoWoF_value = minfo.drop(\"f_value\")\n",
    "minfoForRadar = (minfoWoF_value - minfoWoF_value.values.min()) / (minfoWoF_value.values.max() - minfoWoF_value.values.min())\n",
    "\n",
    "import plotly.graph_objects as go\n",
    "categories = FactorNames\n",
    "fig = go.Figure()\n",
    "\n",
    "for i in range(Cluster_num):\n",
    "  fig.add_trace(go.Scatterpolar(\n",
    "        r=minfoForRadar.iloc[:,i],\n",
    "        theta=categories,\n",
    "        fill='toself',\n",
    "        name=minfoForRadar.columns[i]\n",
    "  ))\n",
    "\n",
    "fig.update_layout(\n",
    "  polar=dict(\n",
    "    radialaxis=dict(\n",
    "      visible=True,\n",
    "      range=[0, 1]\n",
    "    )),\n",
    "  showlegend=True\n",
    ")\n",
    "\n",
    "fig.show()"
   ]
  },
  {
   "cell_type": "code",
   "execution_count": null,
   "id": "cb99e1a9",
   "metadata": {},
   "outputs": [],
   "source": [
    "minfoForRadar.to_csv()"
   ]
  },
  {
   "cell_type": "code",
   "execution_count": null,
   "id": "80639f7d",
   "metadata": {},
   "outputs": [],
   "source": [
    "#分類終了\n",
    "# file ClusterAnalysis.xlsx参照\n",
    "result_data.to_csv()"
   ]
  },
  {
   "cell_type": "code",
   "execution_count": null,
   "id": "16d4ab7d",
   "metadata": {},
   "outputs": [],
   "source": [
    "#カテゴリカルデータの分解と統合（今は使用しない）\n",
    "Dataset = pd.get_dummies(Dataset, columns=[\"性別\"])\n",
    "Dataset = pd.get_dummies(Dataset, columns=[\"居住地\"])\n",
    "Dataset = pd.get_dummies(Dataset, columns=[\"あなたが1番大事する価値観（行動指針）\"])\n",
    "Dataset = pd.get_dummies(Dataset, columns=[\"自動車の運転有無\"])\n",
    "Dataset = pd.get_dummies(Dataset, columns=[\"職業\"])\n",
    "Dataset = pd.get_dummies(Dataset, columns=[\"民族\"])\n",
    "Dataset = pd.get_dummies(Dataset, columns=[\"現在の居住地\"])\n",
    "Dataset = pd.get_dummies(Dataset, columns=[\"出身地（故郷）\"])\n",
    "Dataset = pd.get_dummies(Dataset, columns=[\"結婚有無\"])\n",
    "Dataset = pd.get_dummies(Dataset, columns=[\"家族構成\"])\n",
    "\n",
    "# sklearn cheat sheet: http://neuro-educator.com/ml4/\n",
    "# Dataset.columns"
   ]
  },
  {
   "cell_type": "code",
   "execution_count": null,
   "id": "fac83ffd",
   "metadata": {},
   "outputs": [],
   "source": [
    "#これはいらないかも（上でやったのと一緒）\n",
    "\n",
    "# データの標準化\n",
    "from sklearn.preprocessing import scale\n",
    "z = scale(Target.T)\n",
    "\n",
    "# 次元分解（圧縮）\n",
    "from sklearn.decomposition import PCA\n",
    "pcamodel = PCA() # (n_components=3)\n",
    "pcamodel.fit(z)\n",
    "\n",
    "# 主成分分析詳細分析: https://santakalog.com/2021/02/13/python-pca/\n",
    "pca_cor = pcamodel.transform(z)\n",
    "pca_cols = [\"PC{}\".format(x + 1) for x in range(z.shape[0])]\n",
    "\n",
    "pca_df = pd.DataFrame(pca_cor, columns = pca_cols)\n",
    "\n",
    "#固有値\n",
    "df_exp_var = pd.DataFrame([pcamodel.explained_variance_],columns=pca_cols)\n",
    "df_exp_var.head()\n",
    "\n",
    "#固有値の合計は成分数の13に一致\n",
    "print(df_exp_var.sum(axis=1))\n",
    "\n",
    "#各主成分の寄与率\n",
    "df_exp_var_ratio = pd.DataFrame([pcamodel.explained_variance_ratio_],columns=pca_cols)\n",
    "df_exp_var_ratio.head()\n",
    "\n",
    "#累積寄与率 描画\n",
    "import matplotlib.pyplot as plt\n",
    "import numpy as np\n",
    "\n",
    "cum_exp_var_ratio = np.hstack([0, pcamodel.explained_variance_ratio_]).cumsum()\n",
    "plt.plot(cum_exp_var_ratio, 'D-')\n",
    "plt.xticks(range(24))\n",
    "plt.yticks(np.arange(0,1.05,0.05))\n",
    "plt.grid()\n",
    "plt.show()"
   ]
  },
  {
   "cell_type": "code",
   "execution_count": null,
   "id": "2edb1145",
   "metadata": {},
   "outputs": [],
   "source": [
    "print(type(long_dataset.index))\n",
    "long_dataset.plot()\n",
    "\n",
    "dum_dataset = long_dataset.copy()\n",
    "split_date = pd.Timestamp('01-01-2020')\n",
    "train = dum_dataset.loc[:split_date]\n",
    "test = dum_dataset.loc[split_date:]\n",
    "\n",
    "from sklearn.preprocessing import MinMaxScaler\n",
    "from keras.layers import LSTM\n",
    "\n",
    "sc = MinMaxScaler()\n",
    "\n",
    "train_sc = sc.fit_transform(train)\n",
    "test_sc = sc.transform(test)\n",
    "\n",
    "X_train = np.delete(train_sc,dum_dataset.columns.get_loc('^GSPC'), axis=1)\n",
    "Y_train = train_sc[:, dum_dataset.columns.get_loc('^GSPC')]\n",
    "X_test = np.delete(test_sc, dum_dataset.columns.get_loc('^GSPC'), axis=1)\n",
    "Y_test = test_sc[:, dum_dataset.columns.get_loc('^GSPC')]\n",
    "\n",
    "X_train = X_train[:-1]\n",
    "Y_train = Y_train[1:]\n",
    "X_test = X_test[:-1]\n",
    "Y_test = Y_test[1:]\n",
    "\n",
    "# 日付のindexが消えるので下記の方法はダメ\n",
    "# X_train, X_test, Y_train, Y_test = sklearn.model_selection.train_test_split(x_multi, y_target, shuffle=False)\n",
    "\n",
    "X_train_t = X_train[:,None]\n",
    "X_test_t = X_test[:,None]\n",
    "X_train_t.shape\n",
    "\n",
    "ax = plt.plot(X_train)\n",
    "# plt.plot(X_test)\n",
    "plt.legend(dum_dataset.columns)\n",
    "\n",
    "from keras.callbacks import EarlyStopping\n",
    "model = Sequential()\n",
    "model.add(Dense(32))\n",
    "model.add(LSTM(32, input_shape=(X_train_t.shape[1], X_train_t.shape[2])))\n",
    "model.add(Dense(1))\n",
    "model.compile(loss='mean_squared_error', optimizer='adam')\n",
    "model.summary()\n",
    "\n",
    "early_stop = EarlyStopping(monitor='loss', patience=1, verbose=1)\n",
    "\n",
    "model.fit(X_train_t, Y_train, epochs=100, batch_size=32, verbose=1, callbacks=[early_stop])\n",
    "\n",
    "# 過学習させる、９５％以上行かない場合は入出力\n",
    "\n",
    "# 直線になったら、１０－＞１を出す、ぎざぎざは無くなる、なめらかーに非線形の関数になる、ノイズ制限は\n",
    "\n",
    "Y_train_pred = model.predict(X_train_t)\n",
    "Y_test_pred = model.predict(X_test_t)\n",
    "plt.figure(figsize=(15,4))\n",
    "# plt.plot(Y_train)\n",
    "# plt.plot(Y_train_pred)\n",
    "plt.plot(Y_test)\n",
    "plt.plot(Y_test_pred)\n",
    "plt.legend(['Y_train', 'Y_train_pred', 'Y_test', 'Y_test_pred'])"
   ]
  },
  {
   "cell_type": "code",
   "execution_count": null,
   "id": "772bbe00",
   "metadata": {},
   "outputs": [],
   "source": [
    "import numpy as np\n",
    "import matplotlib.pyplot as plt\n",
    "from sklearn.cluster import KMeans\n",
    "from sklearn.datasets import make_blobs as mb\n",
    "\n",
    "clf = KMeans(n_clusters = 3)\n",
    "N = 100 #Number of sample\n",
    "\n",
    "dataset = mb(centers = 3)\n",
    "# print(dataset)\n",
    "features = np.array(dataset[0])\n",
    "print(features)\n",
    "\n",
    "# print(type(features))\n",
    "pred = clf.fit_predict(features)"
   ]
  },
  {
   "cell_type": "code",
   "execution_count": null,
   "id": "914aa8f6",
   "metadata": {},
   "outputs": [],
   "source": [
    "from sklearn.neighbors import KNeighborsClassifier\n",
    "\n",
    "knn = KNeighborsClassifier(n_neighbors=5, p=2, metric='minkowski')\n",
    "knn.fit(X_train_std, y_train)\n",
    "plot_decision_regions(X_combined_std, y_combined, classifier=knn, test_idx=range(105,150))\n",
    "pyplot.xlabel('petal length [standardized]')\n",
    "pyplot.ylabel('petal width [standardized]')\n",
    "pyplot.legend(loc='upper left')\n",
    "pyplot.show()\n"
   ]
  },
  {
   "cell_type": "code",
   "execution_count": null,
   "id": "a89dd264",
   "metadata": {},
   "outputs": [],
   "source": [
    "# Filtering\n",
    "\n",
    "#This removes the columns which has items below 20 items in last 50 days(from 2/26/2020 to 4/15/2020)\n",
    "Dataset_bool = Dataset.isnull()\n",
    "Dataset_delete_columns = Dataset_bool[\"2020-02-26\":\"2020-04-16\"].sum() > 20\n",
    "Dataset_delete_columns_df = Dataset_delete_columns.to_frame()\n",
    "delete_columns = []\n",
    "for i in range(0, len(Dataset_delete_columns)):\n",
    "    if Dataset_delete_columns[i] == True:\n",
    "            delete_columns.append(Dataset_delete_columns_df.index[i])\n",
    "Dataset = Dataset.drop(delete_columns, axis=1)\n",
    "\n",
    "# Only weekdays\n",
    "Dataset = Dataset[Dataset.index.dayofweek < 5] \n",
    "\n",
    "# Remove columns which has over 50 zeros\n",
    "Dataset_delete_columns = (Dataset == 0).sum(0) > 100\n",
    "Dataset_delete_columns_df = Dataset_delete_columns.to_frame()\n",
    "delete_columns = []\n",
    "for i in range(0, len(Dataset_delete_columns)):\n",
    "    if Dataset_delete_columns[i] == True:\n",
    "            delete_columns.append(Dataset_delete_columns_df.index[i])\n",
    "Dataset = Dataset.drop(delete_columns, axis=1)\n",
    "\n",
    "# Forward filling\n",
    "Dataset = Dataset.fillna(method='ffill') \n",
    "\n",
    "# To check Dataset\n",
    "# Dataset.to_csv(\"AllDataWithoutNan.csv\")\n",
    "\n",
    "# Dataset.info(verbose=True, null_counts=True)\n",
    "# Dataset.describe()\n",
    "# rets = Dataset.pct_change()"
   ]
  },
  {
   "cell_type": "code",
   "execution_count": null,
   "id": "70b86cf2",
   "metadata": {},
   "outputs": [],
   "source": [
    "# shorter_dataset[\"^GSPC\"]\n",
    "\n",
    "# short_dataset\n",
    "# middle_dataset\n",
    "# long_dataset\n",
    "# longer_dataset\n",
    "\n",
    "Stock_value = longer_dataset[\"^GSPC\"]\n",
    "Daily_return = Stock_value.pct_change().dropna()\n",
    "# Daily_return.plot(figsize=(10,4), legend=True, linestyle='--', marker='o')\n",
    "# Daily_return.describe()\n",
    "# sns.distplot(Daily_return, bins=100, color='purple')\n",
    "\n",
    "# Value at Risk: 95%の確率で-1.5%より損をすることはない\n",
    "# Daily_return.quantile(0.05)\n",
    "\n",
    "\n",
    "#ブラウン運動モデル：モンテカルロ法（乱数シミュレーション）,マルコフ仮定（一個前の時間から次が決まる）\n",
    "rets = Daily_return\n",
    "days = 365\n",
    "dt = 1/days\n",
    "mu = rets.mean()\n",
    "sigma = rets.std()\n",
    "\n",
    "def stock_monte_carlo(start_price, days, mu, sigma):\n",
    "    price = np.zeros(days)\n",
    "    price[0] = start_price\n",
    "    shock = np.zeros(days)\n",
    "    drift = np.zeros(days)\n",
    "    \n",
    "    for x in range(1, days):\n",
    "        shock[x] = np.random.normal(loc=mu*dt, scale=sigma * np.sqrt(dt))\n",
    "        drift[x] = mu * dt\n",
    "        price[x] = price[x-1] + (price[x-1]* (drift[x]+shock[x]))\n",
    "    return price\n",
    "\n",
    "start_price = Stock_value.iloc[0]\n",
    "\n",
    "for run in range(5):\n",
    "    plt.plot(stock_monte_carlo(start_price, days, mu, sigma))\n",
    "    \n",
    "plt.xlabel('Days')\n",
    "plt.ylabel('Price')\n",
    "plt.title('Monte Carlo Analysis')"
   ]
  },
  {
   "cell_type": "code",
   "execution_count": null,
   "id": "1707f24b",
   "metadata": {},
   "outputs": [],
   "source": [
    "runs = 10000\n",
    "simulations = np.zeros(runs)\n",
    "np.set_printoptions(threshold=5)\n",
    "for run in range(runs):\n",
    "    simulations[run] = stock_monte_carlo(start_price, days, mu, sigma)[days-1]"
   ]
  },
  {
   "cell_type": "code",
   "execution_count": null,
   "id": "9b339a0c",
   "metadata": {},
   "outputs": [],
   "source": [
    "plt.hist(simulations, bins=200)"
   ]
  },
  {
   "cell_type": "code",
   "execution_count": null,
   "id": "551ec1f9",
   "metadata": {},
   "outputs": [],
   "source": [
    "q = np.percentile(simulations, 1)\n",
    "plt.hist(simulations, bins=200)\n",
    "\n",
    "plt.figtext(0.6, 0.8, s='Start price: {:0.2f}'.format(start_price))\n",
    "plt.figtext(0.6, 0.7, 'mean final price: {:0.2f}'.format(simulations.mean()))\n",
    "plt.figtext(0.6, 0.6, 'VaR(0.99): {:0.2f}'.format(start_price-q))\n",
    "plt.figtext(0.15, 0.6, 'q(0.99): {:0.2f}'.format(q))\n",
    "\n",
    "plt.axvline(x = q, linewidth=4, color='r')"
   ]
  },
  {
   "cell_type": "code",
   "execution_count": null,
   "id": "f0a25f49",
   "metadata": {},
   "outputs": [],
   "source": []
  }
 ],
 "metadata": {
  "kernelspec": {
   "display_name": "Python 3 (ipykernel)",
   "language": "python",
   "name": "python3"
  },
  "language_info": {
   "codemirror_mode": {
    "name": "ipython",
    "version": 3
   },
   "file_extension": ".py",
   "mimetype": "text/x-python",
   "name": "python",
   "nbconvert_exporter": "python",
   "pygments_lexer": "ipython3",
   "version": "3.10.1"
  },
  "varInspector": {
   "cols": {
    "lenName": 16,
    "lenType": 16,
    "lenVar": 40
   },
   "kernels_config": {
    "python": {
     "delete_cmd_postfix": "",
     "delete_cmd_prefix": "del ",
     "library": "var_list.py",
     "varRefreshCmd": "print(var_dic_list())"
    },
    "r": {
     "delete_cmd_postfix": ") ",
     "delete_cmd_prefix": "rm(",
     "library": "var_list.r",
     "varRefreshCmd": "cat(var_dic_list()) "
    }
   },
   "position": {
    "height": "422.85px",
    "left": "1045px",
    "right": "20px",
    "top": "7px",
    "width": "350px"
   },
   "types_to_exclude": [
    "module",
    "function",
    "builtin_function_or_method",
    "instance",
    "_Feature"
   ],
   "window_display": true
  }
 },
 "nbformat": 4,
 "nbformat_minor": 5
}
